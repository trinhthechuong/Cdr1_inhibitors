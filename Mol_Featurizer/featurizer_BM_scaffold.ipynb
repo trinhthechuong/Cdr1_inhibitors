{
 "cells": [
  {
   "cell_type": "code",
   "execution_count": 1,
   "metadata": {},
   "outputs": [],
   "source": [
    "import pandas as pd\n",
    "import numpy as np\n",
    "\n",
    "train_path = \"../data/Official/Featurizer_data/scaffold_train.csv\"\n",
    "test_path = \"../data/Official/Featurizer_data/scaffold_test.csv\"\n",
    "valid_path = \"../data/Official/Featurizer_data/scaffold_valid.csv\"\n",
    "\n",
    "train = pd.read_csv(train_path)\n",
    "test = pd.read_csv(test_path)\n",
    "valid = pd.read_csv(valid_path)"
   ]
  },
  {
   "cell_type": "markdown",
   "metadata": {},
   "source": [
    "## **Training dataset**"
   ]
  },
  {
   "cell_type": "code",
   "execution_count": 3,
   "metadata": {},
   "outputs": [
    {
     "name": "stderr",
     "output_type": "stream",
     "text": [
      "reading NP model ...\n",
      "model in\n"
     ]
    },
    {
     "data": {
      "application/vnd.jupyter.widget-view+json": {
       "model_id": "c93d5d890a1642e48ed2838ca6ce5f89",
       "version_major": 2,
       "version_minor": 0
      },
      "text/plain": [
       "  0%|          | 0/280 [00:00<?, ?it/s]"
      ]
     },
     "metadata": {},
     "output_type": "display_data"
    },
    {
     "data": {
      "application/vnd.jupyter.widget-view+json": {
       "model_id": "0fc74d9b65714203a93f22245d262b86",
       "version_major": 2,
       "version_minor": 0
      },
      "text/plain": [
       "  0%|          | 0/280 [00:00<?, ?it/s]"
      ]
     },
     "metadata": {},
     "output_type": "display_data"
    },
    {
     "data": {
      "text/html": [
       "<div>\n",
       "<style scoped>\n",
       "    .dataframe tbody tr th:only-of-type {\n",
       "        vertical-align: middle;\n",
       "    }\n",
       "\n",
       "    .dataframe tbody tr th {\n",
       "        vertical-align: top;\n",
       "    }\n",
       "\n",
       "    .dataframe thead th {\n",
       "        text-align: right;\n",
       "    }\n",
       "</style>\n",
       "<table border=\"1\" class=\"dataframe\">\n",
       "  <thead>\n",
       "    <tr style=\"text-align: right;\">\n",
       "      <th></th>\n",
       "      <th>ID</th>\n",
       "      <th>Scaffold</th>\n",
       "      <th>Activity</th>\n",
       "      <th>Canonicalsmiles</th>\n",
       "      <th>Molecule</th>\n",
       "      <th>Standardize_smile</th>\n",
       "    </tr>\n",
       "  </thead>\n",
       "  <tbody>\n",
       "    <tr>\n",
       "      <th>0</th>\n",
       "      <td>0</td>\n",
       "      <td>C(=Cc1cc[nH+]cc1)c1ccccc1</td>\n",
       "      <td>1</td>\n",
       "      <td>C(=Cc1cc[nH+]cc1)c1ccccc1</td>\n",
       "      <td>&lt;rdkit.Chem.rdchem.Mol object at 0x11c3d2490&gt;</td>\n",
       "      <td>C(=Cc1ccncc1)c1ccccc1</td>\n",
       "    </tr>\n",
       "    <tr>\n",
       "      <th>1</th>\n",
       "      <td>1</td>\n",
       "      <td>O=C(Nc1ccnc(-c2cccnc2)n1)c1ccccc1</td>\n",
       "      <td>1</td>\n",
       "      <td>O=C(Nc1ccnc(-c2cccnc2)n1)c1ccccc1</td>\n",
       "      <td>&lt;rdkit.Chem.rdchem.Mol object at 0x11c3d2810&gt;</td>\n",
       "      <td>O=C(Nc1ccnc(-c2cccnc2)n1)c1ccccc1</td>\n",
       "    </tr>\n",
       "    <tr>\n",
       "      <th>2</th>\n",
       "      <td>2</td>\n",
       "      <td>c1ccc(C(c2c[nH]c3ccccc23)c2c[nH]c3ccccc23)nc1</td>\n",
       "      <td>1</td>\n",
       "      <td>c1ccc(C(c2c[nH]c3ccccc23)c2c[nH]c3ccccc23)nc1</td>\n",
       "      <td>&lt;rdkit.Chem.rdchem.Mol object at 0x11c3d27a0&gt;</td>\n",
       "      <td>c1ccc(C(c2c[nH]c3ccccc23)c2c[nH]c3ccccc23)nc1</td>\n",
       "    </tr>\n",
       "    <tr>\n",
       "      <th>3</th>\n",
       "      <td>3</td>\n",
       "      <td>O=C1NC(=Nc2ccccc2)SC1=Cc1ccccc1</td>\n",
       "      <td>1</td>\n",
       "      <td>O=C1NC(=Nc2ccccc2)SC1=Cc1ccccc1</td>\n",
       "      <td>&lt;rdkit.Chem.rdchem.Mol object at 0x11c3d2730&gt;</td>\n",
       "      <td>O=C1N=C(Nc2ccccc2)SC1=Cc1ccccc1</td>\n",
       "    </tr>\n",
       "    <tr>\n",
       "      <th>4</th>\n",
       "      <td>4</td>\n",
       "      <td>O=C1Nc2ccccc2C(=O)N2C1C(c1ccccc1)C1COc3ccccc3C12</td>\n",
       "      <td>1</td>\n",
       "      <td>O=C1Nc2ccccc2C(=O)N2C1C(c1ccccc1)C1COc3ccccc3C12</td>\n",
       "      <td>&lt;rdkit.Chem.rdchem.Mol object at 0x11c3d26c0&gt;</td>\n",
       "      <td>O=C1Nc2ccccc2C(=O)N2C1C(c1ccccc1)C1COc3ccccc3C12</td>\n",
       "    </tr>\n",
       "  </tbody>\n",
       "</table>\n",
       "</div>"
      ],
      "text/plain": [
       "   ID                                          Scaffold  Activity  \\\n",
       "0   0                         C(=Cc1cc[nH+]cc1)c1ccccc1         1   \n",
       "1   1                 O=C(Nc1ccnc(-c2cccnc2)n1)c1ccccc1         1   \n",
       "2   2     c1ccc(C(c2c[nH]c3ccccc23)c2c[nH]c3ccccc23)nc1         1   \n",
       "3   3                   O=C1NC(=Nc2ccccc2)SC1=Cc1ccccc1         1   \n",
       "4   4  O=C1Nc2ccccc2C(=O)N2C1C(c1ccccc1)C1COc3ccccc3C12         1   \n",
       "\n",
       "                                    Canonicalsmiles  \\\n",
       "0                         C(=Cc1cc[nH+]cc1)c1ccccc1   \n",
       "1                 O=C(Nc1ccnc(-c2cccnc2)n1)c1ccccc1   \n",
       "2     c1ccc(C(c2c[nH]c3ccccc23)c2c[nH]c3ccccc23)nc1   \n",
       "3                   O=C1NC(=Nc2ccccc2)SC1=Cc1ccccc1   \n",
       "4  O=C1Nc2ccccc2C(=O)N2C1C(c1ccccc1)C1COc3ccccc3C12   \n",
       "\n",
       "                                        Molecule  \\\n",
       "0  <rdkit.Chem.rdchem.Mol object at 0x11c3d2490>   \n",
       "1  <rdkit.Chem.rdchem.Mol object at 0x11c3d2810>   \n",
       "2  <rdkit.Chem.rdchem.Mol object at 0x11c3d27a0>   \n",
       "3  <rdkit.Chem.rdchem.Mol object at 0x11c3d2730>   \n",
       "4  <rdkit.Chem.rdchem.Mol object at 0x11c3d26c0>   \n",
       "\n",
       "                                  Standardize_smile  \n",
       "0                             C(=Cc1ccncc1)c1ccccc1  \n",
       "1                 O=C(Nc1ccnc(-c2cccnc2)n1)c1ccccc1  \n",
       "2     c1ccc(C(c2c[nH]c3ccccc23)c2c[nH]c3ccccc23)nc1  \n",
       "3                   O=C1N=C(Nc2ccccc2)SC1=Cc1ccccc1  \n",
       "4  O=C1Nc2ccccc2C(=O)N2C1C(c1ccccc1)C1COc3ccccc3C12  "
      ]
     },
     "execution_count": 3,
     "metadata": {},
     "output_type": "execute_result"
    }
   ],
   "source": [
    "# import sys, os\n",
    "# sys.path.append(\"./ultility/\")\n",
    "from Mol_Featurizer.ultility.standardize import standardization\n",
    "from rdkit.rdBase import BlockLogs\n",
    "block = BlockLogs()\n",
    "std = standardization(data=train,ID='ID', smiles_col='Scaffold', active_col='Activity', ro5 =0)\n",
    "data_train = std.filter_data()\n",
    "data_train.head()"
   ]
  },
  {
   "cell_type": "code",
   "execution_count": 4,
   "metadata": {},
   "outputs": [
    {
     "name": "stdout",
     "output_type": "stream",
     "text": [
      "COVERTING SMILES TO MOLECULES...\n"
     ]
    },
    {
     "name": "stderr",
     "output_type": "stream",
     "text": [
      "100%|██████████| 280/280 [00:00<00:00, 8328.94it/s]\n",
      "/Users/thechuongtrinh/Documents/Workspace/Master_thesis/Cdr1/Mol_Featurizer/ultility/Featurizer.py:147: SettingWithCopyWarning: \n",
      "A value is trying to be set on a copy of a slice from a DataFrame.\n",
      "Try using .loc[row_indexer,col_indexer] = value instead\n",
      "\n",
      "See the caveats in the documentation: https://pandas.pydata.org/pandas-docs/stable/user_guide/indexing.html#returning-a-view-versus-a-copy\n",
      "  self.data['Molecule'] = self.data[self.smile_col].progress_apply(Chem.MolFromSmiles)\n"
     ]
    },
    {
     "name": "stdout",
     "output_type": "stream",
     "text": [
      "CALCULATING RDK5 FINGERPRINTS...\n"
     ]
    },
    {
     "name": "stderr",
     "output_type": "stream",
     "text": [
      "100%|██████████| 280/280 [00:00<00:00, 2237.74it/s]\n"
     ]
    },
    {
     "name": "stdout",
     "output_type": "stream",
     "text": [
      "CALCULATING RDK6 FINGERPRINTS...\n"
     ]
    },
    {
     "name": "stderr",
     "output_type": "stream",
     "text": [
      "100%|██████████| 280/280 [00:00<00:00, 1379.13it/s]\n"
     ]
    },
    {
     "name": "stdout",
     "output_type": "stream",
     "text": [
      "CALCULATING RDK7 FINGERPRINTS...\n"
     ]
    },
    {
     "name": "stderr",
     "output_type": "stream",
     "text": [
      "100%|██████████| 280/280 [00:00<00:00, 818.91it/s]\n"
     ]
    },
    {
     "name": "stdout",
     "output_type": "stream",
     "text": [
      "CALCULATING ECFP2 FINGERPRINTS...\n"
     ]
    },
    {
     "name": "stderr",
     "output_type": "stream",
     "text": [
      "100%|██████████| 280/280 [00:00<00:00, 14580.91it/s]\n"
     ]
    },
    {
     "name": "stdout",
     "output_type": "stream",
     "text": [
      "CALCULATING ECFP4 FINGERPRINTS...\n"
     ]
    },
    {
     "name": "stderr",
     "output_type": "stream",
     "text": [
      "100%|██████████| 280/280 [00:00<00:00, 10939.66it/s]\n"
     ]
    },
    {
     "name": "stdout",
     "output_type": "stream",
     "text": [
      "CALCULATING ECFP6 FINGERPRINTS...\n"
     ]
    },
    {
     "name": "stderr",
     "output_type": "stream",
     "text": [
      "100%|██████████| 280/280 [00:00<00:00, 7059.84it/s]\n"
     ]
    },
    {
     "name": "stdout",
     "output_type": "stream",
     "text": [
      "CALCULATING MACCs FINGERPRINTS...\n"
     ]
    },
    {
     "name": "stderr",
     "output_type": "stream",
     "text": [
      "100%|██████████| 280/280 [00:00<00:00, 1308.63it/s]\n"
     ]
    },
    {
     "name": "stdout",
     "output_type": "stream",
     "text": [
      "CALCULATING AVALON FINGERPRINTS...\n"
     ]
    },
    {
     "name": "stderr",
     "output_type": "stream",
     "text": [
      "100%|██████████| 280/280 [00:00<00:00, 2024.54it/s]\n"
     ]
    },
    {
     "name": "stdout",
     "output_type": "stream",
     "text": [
      "CALCULATING PUBCHEM FINGERPRINTS...\n"
     ]
    },
    {
     "name": "stderr",
     "output_type": "stream",
     "text": [
      "100%|██████████| 280/280 [00:06<00:00, 42.64it/s]\n"
     ]
    },
    {
     "name": "stdout",
     "output_type": "stream",
     "text": [
      "CALCULATING MAP4 FINGERPRINTS...\n"
     ]
    },
    {
     "name": "stderr",
     "output_type": "stream",
     "text": [
      "100%|██████████| 280/280 [00:00<00:00, 363.22it/s]\n"
     ]
    },
    {
     "name": "stdout",
     "output_type": "stream",
     "text": [
      "CALCULATING SECFP FINGERPRINTS...\n"
     ]
    },
    {
     "name": "stderr",
     "output_type": "stream",
     "text": [
      "100%|██████████| 280/280 [00:01<00:00, 152.04it/s]\n"
     ]
    },
    {
     "name": "stdout",
     "output_type": "stream",
     "text": [
      "CALCULATING PHARMACOPHORE GOBBI FINGERPRINTS...\n"
     ]
    },
    {
     "name": "stderr",
     "output_type": "stream",
     "text": [
      "100%|██████████| 280/280 [00:02<00:00, 132.03it/s]\n"
     ]
    },
    {
     "name": "stdout",
     "output_type": "stream",
     "text": [
      "CALCULATING PHARMACOPHORE CATS2D FINGERPRINTS...\n"
     ]
    },
    {
     "name": "stderr",
     "output_type": "stream",
     "text": [
      "100%|██████████| 280/280 [00:00<00:00, 321.50it/s]\n"
     ]
    },
    {
     "name": "stdout",
     "output_type": "stream",
     "text": [
      "CALCULATING RDKit descriptors...\n"
     ]
    },
    {
     "name": "stderr",
     "output_type": "stream",
     "text": [
      "100%|██████████| 280/280 [00:03<00:00, 79.62it/s]\n"
     ]
    },
    {
     "name": "stdout",
     "output_type": "stream",
     "text": [
      "CALCULATING Mol2vec...\n"
     ]
    },
    {
     "name": "stderr",
     "output_type": "stream",
     "text": [
      "100%|██████████| 280/280 [00:00<00:00, 1173.05it/s]\n"
     ]
    },
    {
     "name": "stdout",
     "output_type": "stream",
     "text": [
      "FINISH CALCULATING!\n"
     ]
    }
   ],
   "source": [
    "from Mol_Featurizer.ultility.Featurizer import Featurize\n",
    "import os\n",
    "folder = str('./data/Official/Scaffold_train_featurized')\n",
    "isExist = os.path.exists(folder)\n",
    "if not isExist:\n",
    "    os.makedirs(folder)\n",
    "save_dir = folder+'/'\n",
    "\n",
    "\n",
    "fp = Featurize(data=data_train, smile_col='Scaffold', activity_col='Activity', \n",
    "            ID='ID', save_dir=save_dir, m2v_path = \"/Users/thechuongtrinh/Documents/Workspace/Master_thesis/Cdr1/Mol_Featurizer/ultility/model_300dim.pkl\", standardize = False)\n",
    "fp.Apply()"
   ]
  },
  {
   "cell_type": "markdown",
   "metadata": {},
   "source": [
    "## **Test dataset**"
   ]
  },
  {
   "cell_type": "code",
   "execution_count": 5,
   "metadata": {},
   "outputs": [
    {
     "name": "stderr",
     "output_type": "stream",
     "text": [
      "100%|██████████| 127/127 [00:00<00:00, 2263.78it/s]\n",
      "100%|██████████| 127/127 [00:01<00:00, 104.96it/s]\n"
     ]
    },
    {
     "name": "stdout",
     "output_type": "stream",
     "text": [
      "COVERTING SMILES TO MOLECULES...\n"
     ]
    },
    {
     "name": "stderr",
     "output_type": "stream",
     "text": [
      "100%|██████████| 127/127 [00:00<00:00, 8179.17it/s]\n",
      "/Users/thechuongtrinh/Documents/Workspace/Master_thesis/Cdr1/Mol_Featurizer/ultility/Featurizer.py:147: SettingWithCopyWarning: \n",
      "A value is trying to be set on a copy of a slice from a DataFrame.\n",
      "Try using .loc[row_indexer,col_indexer] = value instead\n",
      "\n",
      "See the caveats in the documentation: https://pandas.pydata.org/pandas-docs/stable/user_guide/indexing.html#returning-a-view-versus-a-copy\n",
      "  self.data['Molecule'] = self.data[self.smile_col].progress_apply(Chem.MolFromSmiles)\n"
     ]
    },
    {
     "name": "stdout",
     "output_type": "stream",
     "text": [
      "CALCULATING RDK5 FINGERPRINTS...\n"
     ]
    },
    {
     "name": "stderr",
     "output_type": "stream",
     "text": [
      "100%|██████████| 127/127 [00:00<00:00, 2011.02it/s]\n"
     ]
    },
    {
     "name": "stdout",
     "output_type": "stream",
     "text": [
      "CALCULATING RDK6 FINGERPRINTS...\n"
     ]
    },
    {
     "name": "stderr",
     "output_type": "stream",
     "text": [
      "100%|██████████| 127/127 [00:00<00:00, 1199.90it/s]\n"
     ]
    },
    {
     "name": "stdout",
     "output_type": "stream",
     "text": [
      "CALCULATING RDK7 FINGERPRINTS...\n"
     ]
    },
    {
     "name": "stderr",
     "output_type": "stream",
     "text": [
      "100%|██████████| 127/127 [00:00<00:00, 719.29it/s]\n"
     ]
    },
    {
     "name": "stdout",
     "output_type": "stream",
     "text": [
      "CALCULATING ECFP2 FINGERPRINTS...\n"
     ]
    },
    {
     "name": "stderr",
     "output_type": "stream",
     "text": [
      "100%|██████████| 127/127 [00:00<00:00, 14681.97it/s]\n"
     ]
    },
    {
     "name": "stdout",
     "output_type": "stream",
     "text": [
      "CALCULATING ECFP4 FINGERPRINTS...\n"
     ]
    },
    {
     "name": "stderr",
     "output_type": "stream",
     "text": [
      "100%|██████████| 127/127 [00:00<00:00, 10643.74it/s]\n"
     ]
    },
    {
     "name": "stdout",
     "output_type": "stream",
     "text": [
      "CALCULATING ECFP6 FINGERPRINTS...\n"
     ]
    },
    {
     "name": "stderr",
     "output_type": "stream",
     "text": [
      "100%|██████████| 127/127 [00:00<00:00, 7201.15it/s]\n"
     ]
    },
    {
     "name": "stdout",
     "output_type": "stream",
     "text": [
      "CALCULATING MACCs FINGERPRINTS...\n"
     ]
    },
    {
     "name": "stderr",
     "output_type": "stream",
     "text": [
      "100%|██████████| 127/127 [00:00<00:00, 1302.19it/s]\n"
     ]
    },
    {
     "name": "stdout",
     "output_type": "stream",
     "text": [
      "CALCULATING AVALON FINGERPRINTS...\n"
     ]
    },
    {
     "name": "stderr",
     "output_type": "stream",
     "text": [
      "100%|██████████| 127/127 [00:00<00:00, 2044.49it/s]\n"
     ]
    },
    {
     "name": "stdout",
     "output_type": "stream",
     "text": [
      "CALCULATING PUBCHEM FINGERPRINTS...\n"
     ]
    },
    {
     "name": "stderr",
     "output_type": "stream",
     "text": [
      "100%|██████████| 127/127 [00:03<00:00, 41.78it/s]\n"
     ]
    },
    {
     "name": "stdout",
     "output_type": "stream",
     "text": [
      "CALCULATING MAP4 FINGERPRINTS...\n"
     ]
    },
    {
     "name": "stderr",
     "output_type": "stream",
     "text": [
      "100%|██████████| 127/127 [00:00<00:00, 361.01it/s]\n"
     ]
    },
    {
     "name": "stdout",
     "output_type": "stream",
     "text": [
      "CALCULATING SECFP FINGERPRINTS...\n"
     ]
    },
    {
     "name": "stderr",
     "output_type": "stream",
     "text": [
      "100%|██████████| 127/127 [00:00<00:00, 146.76it/s]\n"
     ]
    },
    {
     "name": "stdout",
     "output_type": "stream",
     "text": [
      "CALCULATING PHARMACOPHORE GOBBI FINGERPRINTS...\n"
     ]
    },
    {
     "name": "stderr",
     "output_type": "stream",
     "text": [
      "100%|██████████| 127/127 [00:00<00:00, 197.33it/s]\n"
     ]
    },
    {
     "name": "stdout",
     "output_type": "stream",
     "text": [
      "CALCULATING PHARMACOPHORE CATS2D FINGERPRINTS...\n"
     ]
    },
    {
     "name": "stderr",
     "output_type": "stream",
     "text": [
      "100%|██████████| 127/127 [00:00<00:00, 323.04it/s]\n"
     ]
    },
    {
     "name": "stdout",
     "output_type": "stream",
     "text": [
      "CALCULATING RDKit descriptors...\n"
     ]
    },
    {
     "name": "stderr",
     "output_type": "stream",
     "text": [
      "100%|██████████| 127/127 [00:01<00:00, 76.78it/s]\n"
     ]
    },
    {
     "name": "stdout",
     "output_type": "stream",
     "text": [
      "CALCULATING Mol2vec...\n"
     ]
    },
    {
     "name": "stderr",
     "output_type": "stream",
     "text": [
      "100%|██████████| 127/127 [00:00<00:00, 1152.17it/s]"
     ]
    },
    {
     "name": "stdout",
     "output_type": "stream",
     "text": [
      "FINISH CALCULATING!\n"
     ]
    },
    {
     "name": "stderr",
     "output_type": "stream",
     "text": [
      "\n"
     ]
    }
   ],
   "source": [
    "# import sys, os\n",
    "# sys.path.append(\"./ultility/\")\n",
    "from Mol_Featurizer.ultility.standardize import standardization\n",
    "from rdkit.rdBase import BlockLogs\n",
    "block = BlockLogs()\n",
    "std = standardization(data=test,ID='ID', smiles_col='Scaffold', active_col='Activity', ro5 =0)\n",
    "data_test= std.filter_data()\n",
    "\n",
    "folder = str('./data/Official/Scaffold_test_featurized')\n",
    "isExist = os.path.exists(folder)\n",
    "if not isExist:\n",
    "    os.makedirs(folder)\n",
    "save_dir = folder+'/'\n",
    "\n",
    "\n",
    "fp = Featurize(data=data_test, smile_col='Scaffold', activity_col='Activity', \n",
    "            ID='ID', save_dir=save_dir, m2v_path = \"/Users/thechuongtrinh/Documents/Workspace/Master_thesis/Cdr1/Mol_Featurizer/ultility/model_300dim.pkl\", standardize = False)\n",
    "fp.Apply()"
   ]
  },
  {
   "cell_type": "markdown",
   "metadata": {},
   "source": [
    "## **Valid dataseet**"
   ]
  },
  {
   "cell_type": "code",
   "execution_count": 6,
   "metadata": {},
   "outputs": [
    {
     "name": "stderr",
     "output_type": "stream",
     "text": [
      "100%|██████████| 73/73 [00:00<00:00, 2178.32it/s]\n",
      "100%|██████████| 73/73 [00:00<00:00, 161.69it/s]\n"
     ]
    },
    {
     "name": "stdout",
     "output_type": "stream",
     "text": [
      "COVERTING SMILES TO MOLECULES...\n"
     ]
    },
    {
     "name": "stderr",
     "output_type": "stream",
     "text": [
      "100%|██████████| 73/73 [00:00<00:00, 8120.30it/s]\n",
      "/Users/thechuongtrinh/Documents/Workspace/Master_thesis/Cdr1/Mol_Featurizer/ultility/Featurizer.py:147: SettingWithCopyWarning: \n",
      "A value is trying to be set on a copy of a slice from a DataFrame.\n",
      "Try using .loc[row_indexer,col_indexer] = value instead\n",
      "\n",
      "See the caveats in the documentation: https://pandas.pydata.org/pandas-docs/stable/user_guide/indexing.html#returning-a-view-versus-a-copy\n",
      "  self.data['Molecule'] = self.data[self.smile_col].progress_apply(Chem.MolFromSmiles)\n"
     ]
    },
    {
     "name": "stdout",
     "output_type": "stream",
     "text": [
      "CALCULATING RDK5 FINGERPRINTS...\n"
     ]
    },
    {
     "name": "stderr",
     "output_type": "stream",
     "text": [
      "100%|██████████| 73/73 [00:00<00:00, 2032.52it/s]\n"
     ]
    },
    {
     "name": "stdout",
     "output_type": "stream",
     "text": [
      "CALCULATING RDK6 FINGERPRINTS...\n"
     ]
    },
    {
     "name": "stderr",
     "output_type": "stream",
     "text": [
      "100%|██████████| 73/73 [00:00<00:00, 1154.02it/s]\n"
     ]
    },
    {
     "name": "stdout",
     "output_type": "stream",
     "text": [
      "CALCULATING RDK7 FINGERPRINTS...\n"
     ]
    },
    {
     "name": "stderr",
     "output_type": "stream",
     "text": [
      "100%|██████████| 73/73 [00:00<00:00, 691.92it/s]\n"
     ]
    },
    {
     "name": "stdout",
     "output_type": "stream",
     "text": [
      "CALCULATING ECFP2 FINGERPRINTS...\n"
     ]
    },
    {
     "name": "stderr",
     "output_type": "stream",
     "text": [
      "100%|██████████| 73/73 [00:00<00:00, 13340.20it/s]\n"
     ]
    },
    {
     "name": "stdout",
     "output_type": "stream",
     "text": [
      "CALCULATING ECFP4 FINGERPRINTS...\n"
     ]
    },
    {
     "name": "stderr",
     "output_type": "stream",
     "text": [
      "100%|██████████| 73/73 [00:00<00:00, 10747.83it/s]\n"
     ]
    },
    {
     "name": "stdout",
     "output_type": "stream",
     "text": [
      "CALCULATING ECFP6 FINGERPRINTS...\n"
     ]
    },
    {
     "name": "stderr",
     "output_type": "stream",
     "text": [
      "100%|██████████| 73/73 [00:00<00:00, 6753.52it/s]\n"
     ]
    },
    {
     "name": "stdout",
     "output_type": "stream",
     "text": [
      "CALCULATING MACCs FINGERPRINTS...\n"
     ]
    },
    {
     "name": "stderr",
     "output_type": "stream",
     "text": [
      "100%|██████████| 73/73 [00:00<00:00, 1331.44it/s]\n"
     ]
    },
    {
     "name": "stdout",
     "output_type": "stream",
     "text": [
      "CALCULATING AVALON FINGERPRINTS...\n"
     ]
    },
    {
     "name": "stderr",
     "output_type": "stream",
     "text": [
      "100%|██████████| 73/73 [00:00<00:00, 2058.13it/s]\n"
     ]
    },
    {
     "name": "stdout",
     "output_type": "stream",
     "text": [
      "CALCULATING PUBCHEM FINGERPRINTS...\n"
     ]
    },
    {
     "name": "stderr",
     "output_type": "stream",
     "text": [
      "100%|██████████| 73/73 [00:01<00:00, 41.89it/s]\n"
     ]
    },
    {
     "name": "stdout",
     "output_type": "stream",
     "text": [
      "CALCULATING MAP4 FINGERPRINTS...\n"
     ]
    },
    {
     "name": "stderr",
     "output_type": "stream",
     "text": [
      "100%|██████████| 73/73 [00:00<00:00, 352.33it/s]\n"
     ]
    },
    {
     "name": "stdout",
     "output_type": "stream",
     "text": [
      "CALCULATING SECFP FINGERPRINTS...\n"
     ]
    },
    {
     "name": "stderr",
     "output_type": "stream",
     "text": [
      "100%|██████████| 73/73 [00:00<00:00, 147.76it/s]\n"
     ]
    },
    {
     "name": "stdout",
     "output_type": "stream",
     "text": [
      "CALCULATING PHARMACOPHORE GOBBI FINGERPRINTS...\n"
     ]
    },
    {
     "name": "stderr",
     "output_type": "stream",
     "text": [
      "100%|██████████| 73/73 [00:00<00:00, 189.01it/s]\n"
     ]
    },
    {
     "name": "stdout",
     "output_type": "stream",
     "text": [
      "CALCULATING PHARMACOPHORE CATS2D FINGERPRINTS...\n"
     ]
    },
    {
     "name": "stderr",
     "output_type": "stream",
     "text": [
      "100%|██████████| 73/73 [00:00<00:00, 304.39it/s]\n"
     ]
    },
    {
     "name": "stdout",
     "output_type": "stream",
     "text": [
      "CALCULATING RDKit descriptors...\n"
     ]
    },
    {
     "name": "stderr",
     "output_type": "stream",
     "text": [
      "100%|██████████| 73/73 [00:00<00:00, 75.67it/s]\n"
     ]
    },
    {
     "name": "stdout",
     "output_type": "stream",
     "text": [
      "CALCULATING Mol2vec...\n"
     ]
    },
    {
     "name": "stderr",
     "output_type": "stream",
     "text": [
      "100%|██████████| 73/73 [00:00<00:00, 1154.41it/s]"
     ]
    },
    {
     "name": "stdout",
     "output_type": "stream",
     "text": [
      "FINISH CALCULATING!\n"
     ]
    },
    {
     "name": "stderr",
     "output_type": "stream",
     "text": [
      "\n"
     ]
    }
   ],
   "source": [
    "# import sys, os\n",
    "# sys.path.append(\"./ultility/\")\n",
    "from Mol_Featurizer.ultility.standardize import standardization\n",
    "from rdkit.rdBase import BlockLogs\n",
    "block = BlockLogs()\n",
    "std = standardization(data=valid,ID='ID', smiles_col='Scaffold', active_col='Activity', ro5 =0)\n",
    "data_valid= std.filter_data()\n",
    "\n",
    "folder = str('./data/Official/Scaffold_valid_featurized')\n",
    "isExist = os.path.exists(folder)\n",
    "if not isExist:\n",
    "    os.makedirs(folder)\n",
    "save_dir = folder+'/'\n",
    "\n",
    "\n",
    "fp = Featurize(data=data_valid, smile_col='Scaffold', activity_col='Activity', \n",
    "            ID='ID', save_dir=save_dir, m2v_path = \"/Users/thechuongtrinh/Documents/Workspace/Master_thesis/Cdr1/Mol_Featurizer/ultility/model_300dim.pkl\", standardize = False)\n",
    "fp.Apply()"
   ]
  }
 ],
 "metadata": {
  "kernelspec": {
   "display_name": "cheminformatics",
   "language": "python",
   "name": "python3"
  },
  "language_info": {
   "codemirror_mode": {
    "name": "ipython",
    "version": 3
   },
   "file_extension": ".py",
   "mimetype": "text/x-python",
   "name": "python",
   "nbconvert_exporter": "python",
   "pygments_lexer": "ipython3",
   "version": "3.10.12"
  }
 },
 "nbformat": 4,
 "nbformat_minor": 2
}
