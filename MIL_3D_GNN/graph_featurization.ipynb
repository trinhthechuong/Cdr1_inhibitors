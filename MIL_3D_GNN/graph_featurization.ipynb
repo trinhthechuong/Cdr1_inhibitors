{
 "cells": [
  {
   "cell_type": "markdown",
   "metadata": {},
   "source": [
    "## **1. Loading dependencies modules**"
   ]
  },
  {
   "cell_type": "code",
   "execution_count": 2,
   "metadata": {},
   "outputs": [],
   "source": [
    "import pandas as pd\n",
    "import torch\n",
    "import rdkit\n",
    "from rdkit import Chem\n",
    "from rdkit.Chem import AllChem\n",
    "import os\n",
    "import sys\n",
    "\n",
    "sys.path.append(\"..\")\n",
    "#Conformation generation\n",
    "from conformation_encode.generate_conformations import generate_conformations, visualize_conformations\n",
    "from conformation_encode.Draw_mol_utils import show_mol, show_images\n",
    "from conformation_encode.GraphDataset import BagMoleculeDataset, InstanceMoleculeDataset "
   ]
  },
  {
   "cell_type": "markdown",
   "metadata": {},
   "source": [
    "## **2. Generating multiple conformations**"
   ]
  },
  {
   "cell_type": "markdown",
   "metadata": {},
   "source": [
    "In this exemple, I am going to generate multiple conformations of **Isonitrile* by `generate_conformations` module.   "
   ]
  },
  {
   "cell_type": "markdown",
   "metadata": {},
   "source": [
    "### *2.1. Module information*"
   ]
  },
  {
   "cell_type": "code",
   "execution_count": 3,
   "metadata": {},
   "outputs": [
    {
     "name": "stdout",
     "output_type": "stream",
     "text": [
      "\n",
      "    Generate number of conformations for a molecule by using ETKDG version 3 algorithm and \n",
      "    MMFF force field to optimize the conformations.\n",
      "\n",
      "    Parameters\n",
      "    ----------\n",
      "    mol : RDKit molecule object\n",
      "        The molecule for which the conformations are to be generated.\n",
      "    num_confs : int\n",
      "        The number of conformations to be generated.\n",
      "    rmsd : float, optional\n",
      "        The RMSD value to be used to remove similar conformations. The default is 0.5.\n",
      "    energy : float, optional\n",
      "        The energy value to be used to remove conformations with high energy. The default is 10.\n",
      "    seed : int, optional\n",
      "        The seed value for the random number generator. The default is 42.\n",
      "    num_threads : int, optional \n",
      "        The number of threads to be used for the ETKDG algorithm. The default is 8.\n",
      "    max_attemp : int, optional\n",
      "        The maximum number of attempts to generate the conformations. The default is 1000.\n",
      "    Returns\n",
      "    -------\n",
      "    mol : RDKit molecule object\n",
      "        The molecule with the generated conformations.\n",
      "    cids : list\n",
      "    \n"
     ]
    }
   ],
   "source": [
    "print(generate_conformations.__doc__)"
   ]
  },
  {
   "cell_type": "markdown",
   "metadata": {},
   "source": [
    "### *2.2. Conformations generations*"
   ]
  },
  {
   "cell_type": "code",
   "execution_count": 15,
   "metadata": {},
   "outputs": [
    {
     "data": {
      "text/html": [
       "<div>\n",
       "<style scoped>\n",
       "    .dataframe tbody tr th:only-of-type {\n",
       "        vertical-align: middle;\n",
       "    }\n",
       "\n",
       "    .dataframe tbody tr th {\n",
       "        vertical-align: top;\n",
       "    }\n",
       "\n",
       "    .dataframe thead th {\n",
       "        text-align: right;\n",
       "    }\n",
       "</style>\n",
       "<table border=\"1\" class=\"dataframe\">\n",
       "  <thead>\n",
       "    <tr style=\"text-align: right;\">\n",
       "      <th></th>\n",
       "      <th>ID</th>\n",
       "      <th>Canonical_smiles</th>\n",
       "      <th>Title</th>\n",
       "      <th>Activity</th>\n",
       "      <th>Reference</th>\n",
       "    </tr>\n",
       "  </thead>\n",
       "  <tbody>\n",
       "    <tr>\n",
       "      <th>0</th>\n",
       "      <td>Isonitrile_1</td>\n",
       "      <td>[C-]#[N+]C1=CC(=CCC(=O)O)CC1</td>\n",
       "      <td>Isonitrile_derrivatives</td>\n",
       "      <td>1.0</td>\n",
       "      <td>https://doi.org/10.1016/j.bbrc.2005.03.009</td>\n",
       "    </tr>\n",
       "    <tr>\n",
       "      <th>1</th>\n",
       "      <td>WK14</td>\n",
       "      <td>Oc1ccccc1/C=C/c1ccc2cccc(O)c2n1</td>\n",
       "      <td>Styrylquinolines</td>\n",
       "      <td>1.0</td>\n",
       "      <td>https://doi.org/10.1016/j.ijantimicag.2017.01.044</td>\n",
       "    </tr>\n",
       "    <tr>\n",
       "      <th>2</th>\n",
       "      <td>WK14B</td>\n",
       "      <td>CC(=O)Oc1ccccc1/C=C/c1ccc2cccc(OC(C)=O)c2n1</td>\n",
       "      <td>Styrylquinolines</td>\n",
       "      <td>1.0</td>\n",
       "      <td>https://doi.org/10.1016/j.ijantimicag.2017.01.044</td>\n",
       "    </tr>\n",
       "    <tr>\n",
       "      <th>3</th>\n",
       "      <td>WK15</td>\n",
       "      <td>Oc1cccc(/C=C/c2ccc3cccc(O)c3n2)c1</td>\n",
       "      <td>Styrylquinolines</td>\n",
       "      <td>0.0</td>\n",
       "      <td>https://doi.org/10.1016/j.ijantimicag.2017.01.044</td>\n",
       "    </tr>\n",
       "    <tr>\n",
       "      <th>4</th>\n",
       "      <td>WK15B</td>\n",
       "      <td>CC(=O)Oc1cccc(/C=C/c2ccc3cccc(O)c3n2)c1</td>\n",
       "      <td>Styrylquinolines</td>\n",
       "      <td>0.0</td>\n",
       "      <td>https://doi.org/10.1016/j.ijantimicag.2017.01.044</td>\n",
       "    </tr>\n",
       "    <tr>\n",
       "      <th>...</th>\n",
       "      <td>...</td>\n",
       "      <td>...</td>\n",
       "      <td>...</td>\n",
       "      <td>...</td>\n",
       "      <td>...</td>\n",
       "    </tr>\n",
       "    <tr>\n",
       "      <th>1815</th>\n",
       "      <td>72300</td>\n",
       "      <td>C=CCc1ccc(O)c(-c2cc(CC=C)ccc2O)c1</td>\n",
       "      <td>magnolol</td>\n",
       "      <td>1.0</td>\n",
       "      <td>DOI: 10.2174/0929867324666170523102244</td>\n",
       "    </tr>\n",
       "    <tr>\n",
       "      <th>1816</th>\n",
       "      <td>flavanones</td>\n",
       "      <td>C=CC(C)(C)c1cc([C@@H]2CC(=O)c3c(cc(O)c(CC=C(C)...</td>\n",
       "      <td>prenylated_flavanones</td>\n",
       "      <td>1.0</td>\n",
       "      <td>DOI: 10.2174/0929867324666170523102244</td>\n",
       "    </tr>\n",
       "    <tr>\n",
       "      <th>1817</th>\n",
       "      <td>N_ethylmaleimid</td>\n",
       "      <td>CCN1C(=O)C=CC1=O</td>\n",
       "      <td>N_ethylmaleimid</td>\n",
       "      <td>1.0</td>\n",
       "      <td>DOI: 10.2174/0929867324666170523102244</td>\n",
       "    </tr>\n",
       "    <tr>\n",
       "      <th>1818</th>\n",
       "      <td>3117</td>\n",
       "      <td>CCN(CC)C(=S)SSC(=S)N(CC)CC</td>\n",
       "      <td>Disulfiram</td>\n",
       "      <td>1.0</td>\n",
       "      <td>DOI: 10.2174/0929867324666170523102244</td>\n",
       "    </tr>\n",
       "    <tr>\n",
       "      <th>1819</th>\n",
       "      <td>9959038</td>\n",
       "      <td>CCC1OC2(CCC1C)CC1CC(CC=C(C)CC(C)C=CC=C3COC4C(O...</td>\n",
       "      <td>milbemycin a4</td>\n",
       "      <td>1.0</td>\n",
       "      <td>doi: 10.1128/AAC.02040-12</td>\n",
       "    </tr>\n",
       "  </tbody>\n",
       "</table>\n",
       "<p>1820 rows × 5 columns</p>\n",
       "</div>"
      ],
      "text/plain": [
       "                   ID                                   Canonical_smiles  \\\n",
       "0        Isonitrile_1                       [C-]#[N+]C1=CC(=CCC(=O)O)CC1   \n",
       "1                WK14                    Oc1ccccc1/C=C/c1ccc2cccc(O)c2n1   \n",
       "2               WK14B        CC(=O)Oc1ccccc1/C=C/c1ccc2cccc(OC(C)=O)c2n1   \n",
       "3                WK15                  Oc1cccc(/C=C/c2ccc3cccc(O)c3n2)c1   \n",
       "4               WK15B            CC(=O)Oc1cccc(/C=C/c2ccc3cccc(O)c3n2)c1   \n",
       "...               ...                                                ...   \n",
       "1815            72300                  C=CCc1ccc(O)c(-c2cc(CC=C)ccc2O)c1   \n",
       "1816       flavanones  C=CC(C)(C)c1cc([C@@H]2CC(=O)c3c(cc(O)c(CC=C(C)...   \n",
       "1817  N_ethylmaleimid                                   CCN1C(=O)C=CC1=O   \n",
       "1818             3117                         CCN(CC)C(=S)SSC(=S)N(CC)CC   \n",
       "1819          9959038  CCC1OC2(CCC1C)CC1CC(CC=C(C)CC(C)C=CC=C3COC4C(O...   \n",
       "\n",
       "                        Title  Activity  \\\n",
       "0     Isonitrile_derrivatives       1.0   \n",
       "1            Styrylquinolines       1.0   \n",
       "2            Styrylquinolines       1.0   \n",
       "3            Styrylquinolines       0.0   \n",
       "4            Styrylquinolines       0.0   \n",
       "...                       ...       ...   \n",
       "1815                 magnolol       1.0   \n",
       "1816    prenylated_flavanones       1.0   \n",
       "1817          N_ethylmaleimid       1.0   \n",
       "1818               Disulfiram       1.0   \n",
       "1819            milbemycin a4       1.0   \n",
       "\n",
       "                                              Reference  \n",
       "0            https://doi.org/10.1016/j.bbrc.2005.03.009  \n",
       "1     https://doi.org/10.1016/j.ijantimicag.2017.01.044  \n",
       "2     https://doi.org/10.1016/j.ijantimicag.2017.01.044  \n",
       "3     https://doi.org/10.1016/j.ijantimicag.2017.01.044  \n",
       "4     https://doi.org/10.1016/j.ijantimicag.2017.01.044  \n",
       "...                                                 ...  \n",
       "1815             DOI: 10.2174/0929867324666170523102244  \n",
       "1816             DOI: 10.2174/0929867324666170523102244  \n",
       "1817             DOI: 10.2174/0929867324666170523102244  \n",
       "1818             DOI: 10.2174/0929867324666170523102244  \n",
       "1819                          doi: 10.1128/AAC.02040-12  \n",
       "\n",
       "[1820 rows x 5 columns]"
      ]
     },
     "execution_count": 15,
     "metadata": {},
     "output_type": "execute_result"
    }
   ],
   "source": [
    "# Load dataset\n",
    "data = pd.read_csv(\"/Users/thechuongtrinh/Documents/Workspace/Master_thesis/Cdr1_inhibitors/dataset/original_dataset.csv\")\n",
    "data['Activity'] = data['Activity'].map({'Active': 1, 'Inactive': 0})\n",
    "data"
   ]
  },
  {
   "cell_type": "code",
   "execution_count": 16,
   "metadata": {},
   "outputs": [
    {
     "data": {
      "image/png": "[encoded data removed]",
      "text/plain": [
       "<rdkit.Chem.rdchem.Mol at 0x172057200>"
      ]
     },
     "metadata": {},
     "output_type": "display_data"
    }
   ],
   "source": [
    "# Load dataset\n",
    "data = pd.read_csv(\"/Users/thechuongtrinh/Documents/Workspace/Master_thesis/Cdr1_inhibitors/dataset/original_dataset.csv\")\n",
    "data['Activity'] = data['Activity'].map({'Active': 1, 'Inactive': 0})\n",
    "#  Conformation generation\n",
    "smiles = data[\"Canonical_smiles\"][0]\n",
    "isonitrile = Chem.MolFromSmiles(smiles)\n",
    "display(isonitrile)\n",
    "# Generate conformations\n",
    "confs = generate_conformations(mol = isonitrile, num_confs = 10, rmsd = 0.5,seed= 42, energy = 10, max_attemp = 1000, num_threads = -1)\n",
    "mol, cids,_ = confs.gen_confs()"
   ]
  },
  {
   "cell_type": "markdown",
   "metadata": {},
   "source": [
    "### *2.3. Analyze results*"
   ]
  },
  {
   "cell_type": "code",
   "execution_count": 9,
   "metadata": {},
   "outputs": [
    {
     "name": "stdout",
     "output_type": "stream",
     "text": [
      "Remove 0 conformations\n",
      "Number of remain conformations: 10\n",
      "Energy of each conformation\n",
      "Conformation 0 energy: 5.635141911066638\n",
      "Conformation 1 energy: 5.6351421312274725\n",
      "Conformation 2 energy: 4.598736533580192\n",
      "Conformation 3 energy: 5.6351419120288995\n",
      "Conformation 4 energy: 4.598736534092778\n",
      "Conformation 5 energy: 5.6351419110733465\n",
      "Conformation 6 energy: 5.635141911348032\n",
      "Conformation 7 energy: 4.59873653359911\n",
      "Conformation 8 energy: 5.6351419111351175\n",
      "Conformation 9 energy: 4.598736536863987\n",
      "##################################################\n",
      "RMSD between each pair of conformations\n",
      "RMSD between conf0 and conf1 is 0.5482339243641519\n",
      "RMSD between conf0 and conf2 is 1.8842558010937875\n",
      "RMSD between conf0 and conf3 is 0.7762716446798418\n",
      "RMSD between conf0 and conf4 is 1.4568075672040368\n",
      "RMSD between conf0 and conf5 is 1.2028865409797196\n",
      "RMSD between conf0 and conf6 is 1.3589510139420897\n",
      "RMSD between conf0 and conf7 is 1.9529770573561434\n",
      "RMSD between conf0 and conf8 is 0.9503473279889961\n",
      "RMSD between conf0 and conf9 is 1.8390104196412886\n",
      "RMSD between conf1 and conf2 is 1.8390143561904326\n",
      "RMSD between conf1 and conf3 is 0.9503470024599971\n",
      "RMSD between conf1 and conf4 is 1.4735818199115536\n",
      "RMSD between conf1 and conf5 is 1.2515112278864589\n",
      "RMSD between conf1 and conf6 is 1.3143503285653764\n",
      "RMSD between conf1 and conf7 is 1.9108715639627778\n",
      "RMSD between conf1 and conf8 is 0.7762724797556049\n",
      "RMSD between conf1 and conf9 is 1.8842583693388073\n",
      "RMSD between conf2 and conf3 is 1.883966330272741\n",
      "RMSD between conf2 and conf4 is 1.420722619088344\n",
      "RMSD between conf2 and conf5 is 1.4567129169817028\n",
      "RMSD between conf2 and conf6 is 1.5723158870203073\n",
      "RMSD between conf2 and conf7 is 0.5489331896968535\n",
      "RMSD between conf2 and conf8 is 1.838737628641306\n",
      "RMSD between conf2 and conf9 is 0.5489370761760323\n",
      "RMSD between conf3 and conf4 is 1.4567136310171076\n",
      "RMSD between conf3 and conf5 is 1.4170806975115715\n",
      "RMSD between conf3 and conf6 is 1.3592462986691611\n",
      "RMSD between conf3 and conf7 is 1.809883569134057\n",
      "RMSD between conf3 and conf8 is 0.5482357197371392\n",
      "RMSD between conf3 and conf9 is 1.838739260861762\n",
      "RMSD between conf4 and conf5 is 1.8839658430338375\n",
      "RMSD between conf4 and conf6 is 1.7623461289433122\n",
      "RMSD between conf4 and conf7 is 1.3175885269995735\n",
      "RMSD between conf4 and conf8 is 1.4735693703244517\n",
      "RMSD between conf4 and conf9 is 1.4408212242338552\n",
      "RMSD between conf5 and conf6 is 0.775838355751544\n",
      "RMSD between conf5 and conf7 is 1.555361978331431\n",
      "RMSD between conf5 and conf8 is 1.4584713174606514\n",
      "RMSD between conf5 and conf9 is 1.473571830562597\n",
      "RMSD between conf6 and conf7 is 1.4735712519880282\n",
      "RMSD between conf6 and conf8 is 1.3147798415668865\n",
      "RMSD between conf6 and conf9 is 1.5553614613892541\n",
      "RMSD between conf7 and conf8 is 1.76234965867637\n",
      "RMSD between conf7 and conf9 is 0.7763114454871185\n",
      "RMSD between conf8 and conf9 is 1.8839628033913447\n"
     ]
    },
    {
     "data": {
      "application/3dmoljs_load.v0": "<div id=\"3dmolviewer_1716452902621831\"  style=\"position: relative; width: 1000px; height: 500px;\">\n        <p id=\"3dmolwarning_1716452902621831\" style=\"background-color:#ffcccc;color:black\">3Dmol.js failed to load for some reason.  Please check your browser console for error messages.<br></p>\n        </div>\n<script>\n\nvar loadScriptAsync = function(uri){\n  return new Promise((resolve, reject) => {\n    //this is to ignore the existence of requirejs amd\n    var savedexports, savedmodule;\n    if (typeof exports !== 'undefined') savedexports = exports;\n    else exports = {}\n    if (typeof module !== 'undefined') savedmodule = module;\n    else module = {}\n\n    var tag = document.createElement('script');\n    tag.src = uri;\n    tag.async = true;\n    tag.onload = () => {\n        exports = savedexports;\n        module = savedmodule;\n        resolve();\n    };\n  var firstScriptTag = document.getElementsByTagName('script')[0];\n  firstScriptTag.parentNode.insertBefore(tag, firstScriptTag);\n});\n};\n\nif(typeof $3Dmolpromise === 'undefined') {\n$3Dmolpromise = null;\n  $3Dmolpromise = loadScriptAsync('https://cdnjs.cloudflare.com/ajax/libs/3Dmol/2.1.0/3Dmol-min.js');\n}\n\nvar viewer_1716452902621831 = null;\nvar warn = document.getElementById(\"3dmolwarning_1716452902621831\");\nif(warn) {\n    warn.parentNode.removeChild(warn);\n}\n$3Dmolpromise.then(function() {\nviewer_1716452902621831 = $3Dmol.createViewer(document.getElementById(\"3dmolviewer_1716452902621831\"),{backgroundColor:\"white\"});\nviewer_1716452902621831.zoomTo();\n\tviewer_1716452902621831.removeAllModels();\n\tviewer_1716452902621831.addModel(\"\\n     RDKit          3D\\n\\n 12 12  0  0  0  0  0  0  0  0999 V2000\\n   -3.5073    3.2424    0.0117 C   0  0  0  0  0  3  0  0  0  0  0  0\\n   -2.7911    2.3658   -0.2866 N   0  0  0  0  0  4  0  0  0  0  0  0\\n   -1.9038    1.2735   -0.6633 C   0  0  0  0  0  0  0  0  0  0  0  0\\n   -0.7114    1.0583   -0.1033 C   0  0  0  0  0  0  0  0  0  0  0  0\\n   -0.0801   -0.0944   -0.6916 C   0  0  0  0  0  0  0  0  0  0  0  0\\n    1.1126   -0.6270   -0.3886 C   0  0  0  0  0  0  0  0  0  0  0  0\\n    2.0895   -0.1534    0.6531 C   0  0  0  0  0  0  0  0  0  0  0  0\\n    2.3367   -1.2206    1.7006 C   0  0  0  0  0  0  0  0  0  0  0  0\\n    2.0119   -2.3959    1.6667 O   0  0  0  0  0  0  0  0  0  0  0  0\\n    3.0367   -0.7412    2.7508 O   0  0  0  0  0  0  0  0  0  0  0  0\\n   -1.0157   -0.6396   -1.7471 C   0  0  0  0  0  0  0  0  0  0  0  0\\n   -2.2428    0.2794   -1.7192 C   0  0  0  0  0  0  0  0  0  0  0  0\\n  1  2  3  0\\n  2  3  1  0\\n  3  4  2  0\\n  4  5  1  0\\n  5  6  2  3\\n  6  7  1  0\\n  7  8  1  0\\n  8  9  2  0\\n  8 10  1  0\\n  5 11  1  0\\n 11 12  1  0\\n 12  3  1  0\\nM  CHG  2   1  -1   2   1\\nM  END\\n\",\"sdf\");\n\tviewer_1716452902621831.setStyle({\"stick\": {}});\n\tviewer_1716452902621831.addModel(\"\\n     RDKit          3D\\n\\n 12 12  0  0  0  0  0  0  0  0999 V2000\\n   -3.5073    3.2424    0.0117 C   0  0  0  0  0  3  0  0  0  0  0  0\\n   -2.7911    2.3658   -0.2866 N   0  0  0  0  0  4  0  0  0  0  0  0\\n   -1.9038    1.2735   -0.6633 C   0  0  0  0  0  0  0  0  0  0  0  0\\n   -0.7114    1.0583   -0.1033 C   0  0  0  0  0  0  0  0  0  0  0  0\\n   -0.0801   -0.0944   -0.6916 C   0  0  0  0  0  0  0  0  0  0  0  0\\n    1.1126   -0.6270   -0.3887 C   0  0  0  0  0  0  0  0  0  0  0  0\\n    2.0895   -0.1534    0.6531 C   0  0  0  0  0  0  0  0  0  0  0  0\\n    2.3367   -1.2206    1.7006 C   0  0  0  0  0  0  0  0  0  0  0  0\\n    2.0119   -2.3959    1.6667 O   0  0  0  0  0  0  0  0  0  0  0  0\\n    3.0367   -0.7412    2.7508 O   0  0  0  0  0  0  0  0  0  0  0  0\\n   -1.0157   -0.6396   -1.7471 C   0  0  0  0  0  0  0  0  0  0  0  0\\n   -2.2428    0.2794   -1.7192 C   0  0  0  0  0  0  0  0  0  0  0  0\\n  1  2  3  0\\n  2  3  1  0\\n  3  4  2  0\\n  4  5  1  0\\n  5  6  2  3\\n  6  7  1  0\\n  7  8  1  0\\n  8  9  2  0\\n  8 10  1  0\\n  5 11  1  0\\n 11 12  1  0\\n 12  3  1  0\\nM  CHG  2   1  -1   2   1\\nM  END\\n\",\"sdf\");\n\tviewer_1716452902621831.setStyle({\"stick\": {}});\n\tviewer_1716452902621831.addModel(\"\\n     RDKit          3D\\n\\n 12 12  0  0  0  0  0  0  0  0999 V2000\\n   -3.8625    3.2831   -1.2792 C   0  0  0  0  0  3  0  0  0  0  0  0\\n   -3.0509    2.4564   -1.1108 N   0  0  0  0  0  4  0  0  0  0  0  0\\n   -2.0441    1.4230   -0.9103 C   0  0  0  0  0  0  0  0  0  0  0  0\\n   -1.3421    1.2762    0.2149 C   0  0  0  0  0  0  0  0  0  0  0  0\\n   -0.4305    0.1664    0.0989 C   0  0  0  0  0  0  0  0  0  0  0  0\\n    0.4096   -0.2265    1.0668 C   0  0  0  0  0  0  0  0  0  0  0  0\\n    1.3786   -1.3734    0.9765 C   0  0  0  0  0  0  0  0  0  0  0  0\\n    2.8091   -0.9066    1.1577 C   0  0  0  0  0  0  0  0  0  0  0  0\\n    3.2019    0.1847    1.5343 O   0  0  0  0  0  0  0  0  0  0  0  0\\n    3.6954   -1.8860    0.8780 O   0  0  0  0  0  0  0  0  0  0  0  0\\n   -0.6074   -0.4313   -1.2761 C   0  0  0  0  0  0  0  0  0  0  0  0\\n   -1.6935    0.4168   -1.9513 C   0  0  0  0  0  0  0  0  0  0  0  0\\n  1  2  3  0\\n  2  3  1  0\\n  3  4  2  0\\n  4  5  1  0\\n  5  6  2  3\\n  6  7  1  0\\n  7  8  1  0\\n  8  9  2  0\\n  8 10  1  0\\n  5 11  1  0\\n 11 12  1  0\\n 12  3  1  0\\nM  CHG  2   1  -1   2   1\\nM  END\\n\",\"sdf\");\n\tviewer_1716452902621831.setStyle({\"stick\": {}});\n\tviewer_1716452902621831.addModel(\"\\n     RDKit          3D\\n\\n 12 12  0  0  0  0  0  0  0  0999 V2000\\n   -3.4210    3.3365   -0.1358 C   0  0  0  0  0  3  0  0  0  0  0  0\\n   -2.7294    2.4277   -0.3930 N   0  0  0  0  0  4  0  0  0  0  0  0\\n   -1.8729    1.2951   -0.7184 C   0  0  0  0  0  0  0  0  0  0  0  0\\n   -0.6835    1.0768   -0.1532 C   0  0  0  0  0  0  0  0  0  0  0  0\\n   -0.0855   -0.1199   -0.6859 C   0  0  0  0  0  0  0  0  0  0  0  0\\n    1.0946   -0.6678   -0.3616 C   0  0  0  0  0  0  0  0  0  0  0  0\\n    2.0890   -0.1689    0.6512 C   0  0  0  0  0  0  0  0  0  0  0  0\\n    2.3140   -1.1888    1.7497 C   0  0  0  0  0  0  0  0  0  0  0  0\\n    1.9586   -2.3554    1.7757 O   0  0  0  0  0  0  0  0  0  0  0  0\\n    3.0318   -0.6762    2.7718 O   0  0  0  0  0  0  0  0  0  0  0  0\\n   -1.0406   -0.6922   -1.7091 C   0  0  0  0  0  0  0  0  0  0  0  0\\n   -2.2432    0.2590   -1.7221 C   0  0  0  0  0  0  0  0  0  0  0  0\\n  1  2  3  0\\n  2  3  1  0\\n  3  4  2  0\\n  4  5  1  0\\n  5  6  2  3\\n  6  7  1  0\\n  7  8  1  0\\n  8  9  2  0\\n  8 10  1  0\\n  5 11  1  0\\n 11 12  1  0\\n 12  3  1  0\\nM  CHG  2   1  -1   2   1\\nM  END\\n\",\"sdf\");\n\tviewer_1716452902621831.setStyle({\"stick\": {}});\n\tviewer_1716452902621831.addModel(\"\\n     RDKit          3D\\n\\n 12 12  0  0  0  0  0  0  0  0999 V2000\\n   -4.0456    3.1183   -1.0924 C   0  0  0  0  0  3  0  0  0  0  0  0\\n   -3.1609    2.3575   -0.9986 N   0  0  0  0  0  4  0  0  0  0  0  0\\n   -2.0644    1.4048   -0.8897 C   0  0  0  0  0  0  0  0  0  0  0  0\\n   -0.9566    1.6231   -0.1784 C   0  0  0  0  0  0  0  0  0  0  0  0\\n   -0.0669    0.4937   -0.2722 C   0  0  0  0  0  0  0  0  0  0  0  0\\n    1.1248    0.4172    0.3370 C   0  0  0  0  0  0  0  0  0  0  0  0\\n    2.0735   -0.7480    0.2673 C   0  0  0  0  0  0  0  0  0  0  0  0\\n    2.3356   -1.3327    1.6408 C   0  0  0  0  0  0  0  0  0  0  0  0\\n    2.0336   -0.8668    2.7266 O   0  0  0  0  0  0  0  0  0  0  0  0\\n    3.0183   -2.4954    1.5689 O   0  0  0  0  0  0  0  0  0  0  0  0\\n   -0.7266   -0.5386   -1.1544 C   0  0  0  0  0  0  0  0  0  0  0  0\\n   -2.0696    0.0783   -1.5675 C   0  0  0  0  0  0  0  0  0  0  0  0\\n  1  2  3  0\\n  2  3  1  0\\n  3  4  2  0\\n  4  5  1  0\\n  5  6  2  3\\n  6  7  1  0\\n  7  8  1  0\\n  8  9  2  0\\n  8 10  1  0\\n  5 11  1  0\\n 11 12  1  0\\n 12  3  1  0\\nM  CHG  2   1  -1   2   1\\nM  END\\n\",\"sdf\");\n\tviewer_1716452902621831.setStyle({\"stick\": {}});\n\tviewer_1716452902621831.addModel(\"\\n     RDKit          3D\\n\\n 12 12  0  0  0  0  0  0  0  0999 V2000\\n   -3.1291    3.5992   -0.4337 C   0  0  0  0  0  3  0  0  0  0  0  0\\n   -2.5330    2.6045   -0.5935 N   0  0  0  0  0  4  0  0  0  0  0  0\\n   -1.7951    1.3651   -0.7978 C   0  0  0  0  0  0  0  0  0  0  0  0\\n   -0.8977    0.8841    0.0653 C   0  0  0  0  0  0  0  0  0  0  0  0\\n   -0.3449   -0.3533   -0.4212 C   0  0  0  0  0  0  0  0  0  0  0  0\\n    0.5855   -1.1260    0.1579 C   0  0  0  0  0  0  0  0  0  0  0  0\\n    1.2924   -0.8858    1.4641 C   0  0  0  0  0  0  0  0  0  0  0  0\\n    2.7897   -0.7606    1.2642 C   0  0  0  0  0  0  0  0  0  0  0  0\\n    3.4386   -1.0233    0.2654 O   0  0  0  0  0  0  0  0  0  0  0  0\\n    3.4120   -0.3341    2.3838 O   0  0  0  0  0  0  0  0  0  0  0  0\\n   -1.0012   -0.6567   -1.7493 C   0  0  0  0  0  0  0  0  0  0  0  0\\n   -1.9700    0.5049   -2.0009 C   0  0  0  0  0  0  0  0  0  0  0  0\\n  1  2  3  0\\n  2  3  1  0\\n  3  4  2  0\\n  4  5  1  0\\n  5  6  2  3\\n  6  7  1  0\\n  7  8  1  0\\n  8  9  2  0\\n  8 10  1  0\\n  5 11  1  0\\n 11 12  1  0\\n 12  3  1  0\\nM  CHG  2   1  -1   2   1\\nM  END\\n\",\"sdf\");\n\tviewer_1716452902621831.setStyle({\"stick\": {}});\n\tviewer_1716452902621831.addModel(\"\\n     RDKit          3D\\n\\n 12 12  0  0  0  0  0  0  0  0999 V2000\\n   -3.1291    3.5992   -0.4337 C   0  0  0  0  0  3  0  0  0  0  0  0\\n   -2.5330    2.6045   -0.5935 N   0  0  0  0  0  4  0  0  0  0  0  0\\n   -1.7951    1.3651   -0.7978 C   0  0  0  0  0  0  0  0  0  0  0  0\\n   -0.8977    0.8841    0.0653 C   0  0  0  0  0  0  0  0  0  0  0  0\\n   -0.3449   -0.3533   -0.4212 C   0  0  0  0  0  0  0  0  0  0  0  0\\n    0.5855   -1.1260    0.1579 C   0  0  0  0  0  0  0  0  0  0  0  0\\n    1.2924   -0.8858    1.4641 C   0  0  0  0  0  0  0  0  0  0  0  0\\n    2.7897   -0.7607    1.2643 C   0  0  0  0  0  0  0  0  0  0  0  0\\n    3.4386   -1.0233    0.2654 O   0  0  0  0  0  0  0  0  0  0  0  0\\n    3.4120   -0.3341    2.3838 O   0  0  0  0  0  0  0  0  0  0  0  0\\n   -1.0012   -0.6567   -1.7493 C   0  0  0  0  0  0  0  0  0  0  0  0\\n   -1.9700    0.5049   -2.0009 C   0  0  0  0  0  0  0  0  0  0  0  0\\n  1  2  3  0\\n  2  3  1  0\\n  3  4  2  0\\n  4  5  1  0\\n  5  6  2  3\\n  6  7  1  0\\n  7  8  1  0\\n  8  9  2  0\\n  8 10  1  0\\n  5 11  1  0\\n 11 12  1  0\\n 12  3  1  0\\nM  CHG  2   1  -1   2   1\\nM  END\\n\",\"sdf\");\n\tviewer_1716452902621831.setStyle({\"stick\": {}});\n\tviewer_1716452902621831.addModel(\"\\n     RDKit          3D\\n\\n 12 12  0  0  0  0  0  0  0  0999 V2000\\n   -3.7659    3.3282   -1.4568 C   0  0  0  0  0  3  0  0  0  0  0  0\\n   -2.9824    2.4863   -1.2385 N   0  0  0  0  0  4  0  0  0  0  0  0\\n   -2.0110    1.4333   -0.9752 C   0  0  0  0  0  0  0  0  0  0  0  0\\n   -1.2786    1.3576    0.1376 C   0  0  0  0  0  0  0  0  0  0  0  0\\n   -0.4157    0.2044    0.0955 C   0  0  0  0  0  0  0  0  0  0  0  0\\n    0.4397   -0.1360    1.0698 C   0  0  0  0  0  0  0  0  0  0  0  0\\n    1.3593   -1.3262    1.0549 C   0  0  0  0  0  0  0  0  0  0  0  0\\n    2.8122   -0.9059    1.1514 C   0  0  0  0  0  0  0  0  0  0  0  0\\n    3.2599    0.1971    1.4164 O   0  0  0  0  0  0  0  0  0  0  0  0\\n    3.6496   -1.9427    0.9352 O   0  0  0  0  0  0  0  0  0  0  0  0\\n   -0.6611   -0.5051   -1.2143 C   0  0  0  0  0  0  0  0  0  0  0  0\\n   -1.7347    0.3247   -1.9312 C   0  0  0  0  0  0  0  0  0  0  0  0\\n  1  2  3  0\\n  2  3  1  0\\n  3  4  2  0\\n  4  5  1  0\\n  5  6  2  3\\n  6  7  1  0\\n  7  8  1  0\\n  8  9  2  0\\n  8 10  1  0\\n  5 11  1  0\\n 11 12  1  0\\n 12  3  1  0\\nM  CHG  2   1  -1   2   1\\nM  END\\n\",\"sdf\");\n\tviewer_1716452902621831.setStyle({\"stick\": {}});\n\tviewer_1716452902621831.addModel(\"\\n     RDKit          3D\\n\\n 12 12  0  0  0  0  0  0  0  0999 V2000\\n   -3.4271    3.3302   -0.1276 C   0  0  0  0  0  3  0  0  0  0  0  0\\n   -2.7344    2.4229   -0.3866 N   0  0  0  0  0  4  0  0  0  0  0  0\\n   -1.8763    1.2921   -0.7142 C   0  0  0  0  0  0  0  0  0  0  0  0\\n   -0.6855    1.0756   -0.1513 C   0  0  0  0  0  0  0  0  0  0  0  0\\n   -0.0863   -0.1197   -0.6858 C   0  0  0  0  0  0  0  0  0  0  0  0\\n    1.0954   -0.6657   -0.3640 C   0  0  0  0  0  0  0  0  0  0  0  0\\n    2.0907   -0.1656    0.6475 C   0  0  0  0  0  0  0  0  0  0  0  0\\n    2.3194   -1.1858    1.7448 C   0  0  0  0  0  0  0  0  0  0  0  0\\n    1.9662   -2.3531    1.7707 O   0  0  0  0  0  0  0  0  0  0  0  0\\n    3.0381   -0.6726    2.7660 O   0  0  0  0  0  0  0  0  0  0  0  0\\n   -1.0421   -0.6930   -1.7077 C   0  0  0  0  0  0  0  0  0  0  0  0\\n   -2.2464    0.2560   -1.7180 C   0  0  0  0  0  0  0  0  0  0  0  0\\n  1  2  3  0\\n  2  3  1  0\\n  3  4  2  0\\n  4  5  1  0\\n  5  6  2  3\\n  6  7  1  0\\n  7  8  1  0\\n  8  9  2  0\\n  8 10  1  0\\n  5 11  1  0\\n 11 12  1  0\\n 12  3  1  0\\nM  CHG  2   1  -1   2   1\\nM  END\\n\",\"sdf\");\n\tviewer_1716452902621831.setStyle({\"stick\": {}});\n\tviewer_1716452902621831.addModel(\"\\n     RDKit          3D\\n\\n 12 12  0  0  0  0  0  0  0  0999 V2000\\n   -3.8705    3.2767   -1.2702 C   0  0  0  0  0  3  0  0  0  0  0  0\\n   -3.0572    2.4515   -1.1038 N   0  0  0  0  0  4  0  0  0  0  0  0\\n   -2.0481    1.4198   -0.9058 C   0  0  0  0  0  0  0  0  0  0  0  0\\n   -1.3438    1.2734    0.2181 C   0  0  0  0  0  0  0  0  0  0  0  0\\n   -0.4304    0.1654    0.0998 C   0  0  0  0  0  0  0  0  0  0  0  0\\n    0.4121   -0.2266    1.0659 C   0  0  0  0  0  0  0  0  0  0  0  0\\n    1.3830   -1.3716    0.9731 C   0  0  0  0  0  0  0  0  0  0  0  0\\n    2.8130   -0.9023    1.1522 C   0  0  0  0  0  0  0  0  0  0  0  0\\n    3.2045    0.1895    1.5289 O   0  0  0  0  0  0  0  0  0  0  0  0\\n    3.7007   -1.8798    0.8703 O   0  0  0  0  0  0  0  0  0  0  0  0\\n   -0.6086   -0.4316   -1.2754 C   0  0  0  0  0  0  0  0  0  0  0  0\\n   -1.6974    0.4149   -1.9481 C   0  0  0  0  0  0  0  0  0  0  0  0\\n  1  2  3  0\\n  2  3  1  0\\n  3  4  2  0\\n  4  5  1  0\\n  5  6  2  3\\n  6  7  1  0\\n  7  8  1  0\\n  8  9  2  0\\n  8 10  1  0\\n  5 11  1  0\\n 11 12  1  0\\n 12  3  1  0\\nM  CHG  2   1  -1   2   1\\nM  END\\n\",\"sdf\");\n\tviewer_1716452902621831.setStyle({\"stick\": {}});\n\tviewer_1716452902621831.setStyle({\"model\": 0},{\"stick\": {\"colorscheme\": \"cyanCarbon\"}});\n\tviewer_1716452902621831.setStyle({\"model\": 1},{\"stick\": {\"colorscheme\": \"redCarbon\"}});\n\tviewer_1716452902621831.setStyle({\"model\": 2},{\"stick\": {\"colorscheme\": \"blueCarbon\"}});\n\tviewer_1716452902621831.setStyle({\"model\": 3},{\"stick\": {\"colorscheme\": \"magentaCarbon\"}});\n\tviewer_1716452902621831.setStyle({\"model\": 4},{\"stick\": {\"colorscheme\": \"whiteCarbon\"}});\n\tviewer_1716452902621831.setStyle({\"model\": 5},{\"stick\": {\"colorscheme\": \"purpleCarbon\"}});\n\tviewer_1716452902621831.setStyle({\"model\": 6},{\"stick\": {\"colorscheme\": \"cyanCarbon\"}});\n\tviewer_1716452902621831.setStyle({\"model\": 7},{\"stick\": {\"colorscheme\": \"redCarbon\"}});\n\tviewer_1716452902621831.setStyle({\"model\": 8},{\"stick\": {\"colorscheme\": \"blueCarbon\"}});\n\tviewer_1716452902621831.setStyle({\"model\": 9},{\"stick\": {\"colorscheme\": \"magentaCarbon\"}});\n\tviewer_1716452902621831.zoomTo();\nviewer_1716452902621831.render();\n});\n</script>",
      "text/html": [
       "<div id=\"3dmolviewer_1716452902621831\"  style=\"position: relative; width: 1000px; height: 500px;\">\n",
       "        <p id=\"3dmolwarning_1716452902621831\" style=\"background-color:#ffcccc;color:black\">3Dmol.js failed to load for some reason.  Please check your browser console for error messages.<br></p>\n",
       "        </div>\n",
       "<script>\n",
       "\n",
       "var loadScriptAsync = function(uri){\n",
       "  return new Promise((resolve, reject) => {\n",
       "    //this is to ignore the existence of requirejs amd\n",
       "    var savedexports, savedmodule;\n",
       "    if (typeof exports !== 'undefined') savedexports = exports;\n",
       "    else exports = {}\n",
       "    if (typeof module !== 'undefined') savedmodule = module;\n",
       "    else module = {}\n",
       "\n",
       "    var tag = document.createElement('script');\n",
       "    tag.src = uri;\n",
       "    tag.async = true;\n",
       "    tag.onload = () => {\n",
       "        exports = savedexports;\n",
       "        module = savedmodule;\n",
       "        resolve();\n",
       "    };\n",
       "  var firstScriptTag = document.getElementsByTagName('script')[0];\n",
       "  firstScriptTag.parentNode.insertBefore(tag, firstScriptTag);\n",
       "});\n",
       "};\n",
       "\n",
       "if(typeof $3Dmolpromise === 'undefined') {\n",
       "$3Dmolpromise = null;\n",
       "  $3Dmolpromise = loadScriptAsync('https://cdnjs.cloudflare.com/ajax/libs/3Dmol/2.1.0/3Dmol-min.js');\n",
       "}\n",
       "\n",
       "var viewer_1716452902621831 = null;\n",
       "var warn = document.getElementById(\"3dmolwarning_1716452902621831\");\n",
       "if(warn) {\n",
       "    warn.parentNode.removeChild(warn);\n",
       "}\n",
       "$3Dmolpromise.then(function() {\n",
       "viewer_1716452902621831 = $3Dmol.createViewer(document.getElementById(\"3dmolviewer_1716452902621831\"),{backgroundColor:\"white\"});\n",
       "viewer_1716452902621831.zoomTo();\n",
       "\tviewer_1716452902621831.removeAllModels();\n",
       "\tviewer_1716452902621831.addModel(\"\\n     RDKit          3D\\n\\n 12 12  0  0  0  0  0  0  0  0999 V2000\\n   -3.5073    3.2424    0.0117 C   0  0  0  0  0  3  0  0  0  0  0  0\\n   -2.7911    2.3658   -0.2866 N   0  0  0  0  0  4  0  0  0  0  0  0\\n   -1.9038    1.2735   -0.6633 C   0  0  0  0  0  0  0  0  0  0  0  0\\n   -0.7114    1.0583   -0.1033 C   0  0  0  0  0  0  0  0  0  0  0  0\\n   -0.0801   -0.0944   -0.6916 C   0  0  0  0  0  0  0  0  0  0  0  0\\n    1.1126   -0.6270   -0.3886 C   0  0  0  0  0  0  0  0  0  0  0  0\\n    2.0895   -0.1534    0.6531 C   0  0  0  0  0  0  0  0  0  0  0  0\\n    2.3367   -1.2206    1.7006 C   0  0  0  0  0  0  0  0  0  0  0  0\\n    2.0119   -2.3959    1.6667 O   0  0  0  0  0  0  0  0  0  0  0  0\\n    3.0367   -0.7412    2.7508 O   0  0  0  0  0  0  0  0  0  0  0  0\\n   -1.0157   -0.6396   -1.7471 C   0  0  0  0  0  0  0  0  0  0  0  0\\n   -2.2428    0.2794   -1.7192 C   0  0  0  0  0  0  0  0  0  0  0  0\\n  1  2  3  0\\n  2  3  1  0\\n  3  4  2  0\\n  4  5  1  0\\n  5  6  2  3\\n  6  7  1  0\\n  7  8  1  0\\n  8  9  2  0\\n  8 10  1  0\\n  5 11  1  0\\n 11 12  1  0\\n 12  3  1  0\\nM  CHG  2   1  -1   2   1\\nM  END\\n\",\"sdf\");\n",
       "\tviewer_1716452902621831.setStyle({\"stick\": {}});\n",
       "\tviewer_1716452902621831.addModel(\"\\n     RDKit          3D\\n\\n 12 12  0  0  0  0  0  0  0  0999 V2000\\n   -3.5073    3.2424    0.0117 C   0  0  0  0  0  3  0  0  0  0  0  0\\n   -2.7911    2.3658   -0.2866 N   0  0  0  0  0  4  0  0  0  0  0  0\\n   -1.9038    1.2735   -0.6633 C   0  0  0  0  0  0  0  0  0  0  0  0\\n   -0.7114    1.0583   -0.1033 C   0  0  0  0  0  0  0  0  0  0  0  0\\n   -0.0801   -0.0944   -0.6916 C   0  0  0  0  0  0  0  0  0  0  0  0\\n    1.1126   -0.6270   -0.3887 C   0  0  0  0  0  0  0  0  0  0  0  0\\n    2.0895   -0.1534    0.6531 C   0  0  0  0  0  0  0  0  0  0  0  0\\n    2.3367   -1.2206    1.7006 C   0  0  0  0  0  0  0  0  0  0  0  0\\n    2.0119   -2.3959    1.6667 O   0  0  0  0  0  0  0  0  0  0  0  0\\n    3.0367   -0.7412    2.7508 O   0  0  0  0  0  0  0  0  0  0  0  0\\n   -1.0157   -0.6396   -1.7471 C   0  0  0  0  0  0  0  0  0  0  0  0\\n   -2.2428    0.2794   -1.7192 C   0  0  0  0  0  0  0  0  0  0  0  0\\n  1  2  3  0\\n  2  3  1  0\\n  3  4  2  0\\n  4  5  1  0\\n  5  6  2  3\\n  6  7  1  0\\n  7  8  1  0\\n  8  9  2  0\\n  8 10  1  0\\n  5 11  1  0\\n 11 12  1  0\\n 12  3  1  0\\nM  CHG  2   1  -1   2   1\\nM  END\\n\",\"sdf\");\n",
       "\tviewer_1716452902621831.setStyle({\"stick\": {}});\n",
       "\tviewer_1716452902621831.addModel(\"\\n     RDKit          3D\\n\\n 12 12  0  0  0  0  0  0  0  0999 V2000\\n   -3.8625    3.2831   -1.2792 C   0  0  0  0  0  3  0  0  0  0  0  0\\n   -3.0509    2.4564   -1.1108 N   0  0  0  0  0  4  0  0  0  0  0  0\\n   -2.0441    1.4230   -0.9103 C   0  0  0  0  0  0  0  0  0  0  0  0\\n   -1.3421    1.2762    0.2149 C   0  0  0  0  0  0  0  0  0  0  0  0\\n   -0.4305    0.1664    0.0989 C   0  0  0  0  0  0  0  0  0  0  0  0\\n    0.4096   -0.2265    1.0668 C   0  0  0  0  0  0  0  0  0  0  0  0\\n    1.3786   -1.3734    0.9765 C   0  0  0  0  0  0  0  0  0  0  0  0\\n    2.8091   -0.9066    1.1577 C   0  0  0  0  0  0  0  0  0  0  0  0\\n    3.2019    0.1847    1.5343 O   0  0  0  0  0  0  0  0  0  0  0  0\\n    3.6954   -1.8860    0.8780 O   0  0  0  0  0  0  0  0  0  0  0  0\\n   -0.6074   -0.4313   -1.2761 C   0  0  0  0  0  0  0  0  0  0  0  0\\n   -1.6935    0.4168   -1.9513 C   0  0  0  0  0  0  0  0  0  0  0  0\\n  1  2  3  0\\n  2  3  1  0\\n  3  4  2  0\\n  4  5  1  0\\n  5  6  2  3\\n  6  7  1  0\\n  7  8  1  0\\n  8  9  2  0\\n  8 10  1  0\\n  5 11  1  0\\n 11 12  1  0\\n 12  3  1  0\\nM  CHG  2   1  -1   2   1\\nM  END\\n\",\"sdf\");\n",
       "\tviewer_1716452902621831.setStyle({\"stick\": {}});\n",
       "\tviewer_1716452902621831.addModel(\"\\n     RDKit          3D\\n\\n 12 12  0  0  0  0  0  0  0  0999 V2000\\n   -3.4210    3.3365   -0.1358 C   0  0  0  0  0  3  0  0  0  0  0  0\\n   -2.7294    2.4277   -0.3930 N   0  0  0  0  0  4  0  0  0  0  0  0\\n   -1.8729    1.2951   -0.7184 C   0  0  0  0  0  0  0  0  0  0  0  0\\n   -0.6835    1.0768   -0.1532 C   0  0  0  0  0  0  0  0  0  0  0  0\\n   -0.0855   -0.1199   -0.6859 C   0  0  0  0  0  0  0  0  0  0  0  0\\n    1.0946   -0.6678   -0.3616 C   0  0  0  0  0  0  0  0  0  0  0  0\\n    2.0890   -0.1689    0.6512 C   0  0  0  0  0  0  0  0  0  0  0  0\\n    2.3140   -1.1888    1.7497 C   0  0  0  0  0  0  0  0  0  0  0  0\\n    1.9586   -2.3554    1.7757 O   0  0  0  0  0  0  0  0  0  0  0  0\\n    3.0318   -0.6762    2.7718 O   0  0  0  0  0  0  0  0  0  0  0  0\\n   -1.0406   -0.6922   -1.7091 C   0  0  0  0  0  0  0  0  0  0  0  0\\n   -2.2432    0.2590   -1.7221 C   0  0  0  0  0  0  0  0  0  0  0  0\\n  1  2  3  0\\n  2  3  1  0\\n  3  4  2  0\\n  4  5  1  0\\n  5  6  2  3\\n  6  7  1  0\\n  7  8  1  0\\n  8  9  2  0\\n  8 10  1  0\\n  5 11  1  0\\n 11 12  1  0\\n 12  3  1  0\\nM  CHG  2   1  -1   2   1\\nM  END\\n\",\"sdf\");\n",
       "\tviewer_1716452902621831.setStyle({\"stick\": {}});\n",
       "\tviewer_1716452902621831.addModel(\"\\n     RDKit          3D\\n\\n 12 12  0  0  0  0  0  0  0  0999 V2000\\n   -4.0456    3.1183   -1.0924 C   0  0  0  0  0  3  0  0  0  0  0  0\\n   -3.1609    2.3575   -0.9986 N   0  0  0  0  0  4  0  0  0  0  0  0\\n   -2.0644    1.4048   -0.8897 C   0  0  0  0  0  0  0  0  0  0  0  0\\n   -0.9566    1.6231   -0.1784 C   0  0  0  0  0  0  0  0  0  0  0  0\\n   -0.0669    0.4937   -0.2722 C   0  0  0  0  0  0  0  0  0  0  0  0\\n    1.1248    0.4172    0.3370 C   0  0  0  0  0  0  0  0  0  0  0  0\\n    2.0735   -0.7480    0.2673 C   0  0  0  0  0  0  0  0  0  0  0  0\\n    2.3356   -1.3327    1.6408 C   0  0  0  0  0  0  0  0  0  0  0  0\\n    2.0336   -0.8668    2.7266 O   0  0  0  0  0  0  0  0  0  0  0  0\\n    3.0183   -2.4954    1.5689 O   0  0  0  0  0  0  0  0  0  0  0  0\\n   -0.7266   -0.5386   -1.1544 C   0  0  0  0  0  0  0  0  0  0  0  0\\n   -2.0696    0.0783   -1.5675 C   0  0  0  0  0  0  0  0  0  0  0  0\\n  1  2  3  0\\n  2  3  1  0\\n  3  4  2  0\\n  4  5  1  0\\n  5  6  2  3\\n  6  7  1  0\\n  7  8  1  0\\n  8  9  2  0\\n  8 10  1  0\\n  5 11  1  0\\n 11 12  1  0\\n 12  3  1  0\\nM  CHG  2   1  -1   2   1\\nM  END\\n\",\"sdf\");\n",
       "\tviewer_1716452902621831.setStyle({\"stick\": {}});\n",
       "\tviewer_1716452902621831.addModel(\"\\n     RDKit          3D\\n\\n 12 12  0  0  0  0  0  0  0  0999 V2000\\n   -3.1291    3.5992   -0.4337 C   0  0  0  0  0  3  0  0  0  0  0  0\\n   -2.5330    2.6045   -0.5935 N   0  0  0  0  0  4  0  0  0  0  0  0\\n   -1.7951    1.3651   -0.7978 C   0  0  0  0  0  0  0  0  0  0  0  0\\n   -0.8977    0.8841    0.0653 C   0  0  0  0  0  0  0  0  0  0  0  0\\n   -0.3449   -0.3533   -0.4212 C   0  0  0  0  0  0  0  0  0  0  0  0\\n    0.5855   -1.1260    0.1579 C   0  0  0  0  0  0  0  0  0  0  0  0\\n    1.2924   -0.8858    1.4641 C   0  0  0  0  0  0  0  0  0  0  0  0\\n    2.7897   -0.7606    1.2642 C   0  0  0  0  0  0  0  0  0  0  0  0\\n    3.4386   -1.0233    0.2654 O   0  0  0  0  0  0  0  0  0  0  0  0\\n    3.4120   -0.3341    2.3838 O   0  0  0  0  0  0  0  0  0  0  0  0\\n   -1.0012   -0.6567   -1.7493 C   0  0  0  0  0  0  0  0  0  0  0  0\\n   -1.9700    0.5049   -2.0009 C   0  0  0  0  0  0  0  0  0  0  0  0\\n  1  2  3  0\\n  2  3  1  0\\n  3  4  2  0\\n  4  5  1  0\\n  5  6  2  3\\n  6  7  1  0\\n  7  8  1  0\\n  8  9  2  0\\n  8 10  1  0\\n  5 11  1  0\\n 11 12  1  0\\n 12  3  1  0\\nM  CHG  2   1  -1   2   1\\nM  END\\n\",\"sdf\");\n",
       "\tviewer_1716452902621831.setStyle({\"stick\": {}});\n",
       "\tviewer_1716452902621831.addModel(\"\\n     RDKit          3D\\n\\n 12 12  0  0  0  0  0  0  0  0999 V2000\\n   -3.1291    3.5992   -0.4337 C   0  0  0  0  0  3  0  0  0  0  0  0\\n   -2.5330    2.6045   -0.5935 N   0  0  0  0  0  4  0  0  0  0  0  0\\n   -1.7951    1.3651   -0.7978 C   0  0  0  0  0  0  0  0  0  0  0  0\\n   -0.8977    0.8841    0.0653 C   0  0  0  0  0  0  0  0  0  0  0  0\\n   -0.3449   -0.3533   -0.4212 C   0  0  0  0  0  0  0  0  0  0  0  0\\n    0.5855   -1.1260    0.1579 C   0  0  0  0  0  0  0  0  0  0  0  0\\n    1.2924   -0.8858    1.4641 C   0  0  0  0  0  0  0  0  0  0  0  0\\n    2.7897   -0.7607    1.2643 C   0  0  0  0  0  0  0  0  0  0  0  0\\n    3.4386   -1.0233    0.2654 O   0  0  0  0  0  0  0  0  0  0  0  0\\n    3.4120   -0.3341    2.3838 O   0  0  0  0  0  0  0  0  0  0  0  0\\n   -1.0012   -0.6567   -1.7493 C   0  0  0  0  0  0  0  0  0  0  0  0\\n   -1.9700    0.5049   -2.0009 C   0  0  0  0  0  0  0  0  0  0  0  0\\n  1  2  3  0\\n  2  3  1  0\\n  3  4  2  0\\n  4  5  1  0\\n  5  6  2  3\\n  6  7  1  0\\n  7  8  1  0\\n  8  9  2  0\\n  8 10  1  0\\n  5 11  1  0\\n 11 12  1  0\\n 12  3  1  0\\nM  CHG  2   1  -1   2   1\\nM  END\\n\",\"sdf\");\n",
       "\tviewer_1716452902621831.setStyle({\"stick\": {}});\n",
       "\tviewer_1716452902621831.addModel(\"\\n     RDKit          3D\\n\\n 12 12  0  0  0  0  0  0  0  0999 V2000\\n   -3.7659    3.3282   -1.4568 C   0  0  0  0  0  3  0  0  0  0  0  0\\n   -2.9824    2.4863   -1.2385 N   0  0  0  0  0  4  0  0  0  0  0  0\\n   -2.0110    1.4333   -0.9752 C   0  0  0  0  0  0  0  0  0  0  0  0\\n   -1.2786    1.3576    0.1376 C   0  0  0  0  0  0  0  0  0  0  0  0\\n   -0.4157    0.2044    0.0955 C   0  0  0  0  0  0  0  0  0  0  0  0\\n    0.4397   -0.1360    1.0698 C   0  0  0  0  0  0  0  0  0  0  0  0\\n    1.3593   -1.3262    1.0549 C   0  0  0  0  0  0  0  0  0  0  0  0\\n    2.8122   -0.9059    1.1514 C   0  0  0  0  0  0  0  0  0  0  0  0\\n    3.2599    0.1971    1.4164 O   0  0  0  0  0  0  0  0  0  0  0  0\\n    3.6496   -1.9427    0.9352 O   0  0  0  0  0  0  0  0  0  0  0  0\\n   -0.6611   -0.5051   -1.2143 C   0  0  0  0  0  0  0  0  0  0  0  0\\n   -1.7347    0.3247   -1.9312 C   0  0  0  0  0  0  0  0  0  0  0  0\\n  1  2  3  0\\n  2  3  1  0\\n  3  4  2  0\\n  4  5  1  0\\n  5  6  2  3\\n  6  7  1  0\\n  7  8  1  0\\n  8  9  2  0\\n  8 10  1  0\\n  5 11  1  0\\n 11 12  1  0\\n 12  3  1  0\\nM  CHG  2   1  -1   2   1\\nM  END\\n\",\"sdf\");\n",
       "\tviewer_1716452902621831.setStyle({\"stick\": {}});\n",
       "\tviewer_1716452902621831.addModel(\"\\n     RDKit          3D\\n\\n 12 12  0  0  0  0  0  0  0  0999 V2000\\n   -3.4271    3.3302   -0.1276 C   0  0  0  0  0  3  0  0  0  0  0  0\\n   -2.7344    2.4229   -0.3866 N   0  0  0  0  0  4  0  0  0  0  0  0\\n   -1.8763    1.2921   -0.7142 C   0  0  0  0  0  0  0  0  0  0  0  0\\n   -0.6855    1.0756   -0.1513 C   0  0  0  0  0  0  0  0  0  0  0  0\\n   -0.0863   -0.1197   -0.6858 C   0  0  0  0  0  0  0  0  0  0  0  0\\n    1.0954   -0.6657   -0.3640 C   0  0  0  0  0  0  0  0  0  0  0  0\\n    2.0907   -0.1656    0.6475 C   0  0  0  0  0  0  0  0  0  0  0  0\\n    2.3194   -1.1858    1.7448 C   0  0  0  0  0  0  0  0  0  0  0  0\\n    1.9662   -2.3531    1.7707 O   0  0  0  0  0  0  0  0  0  0  0  0\\n    3.0381   -0.6726    2.7660 O   0  0  0  0  0  0  0  0  0  0  0  0\\n   -1.0421   -0.6930   -1.7077 C   0  0  0  0  0  0  0  0  0  0  0  0\\n   -2.2464    0.2560   -1.7180 C   0  0  0  0  0  0  0  0  0  0  0  0\\n  1  2  3  0\\n  2  3  1  0\\n  3  4  2  0\\n  4  5  1  0\\n  5  6  2  3\\n  6  7  1  0\\n  7  8  1  0\\n  8  9  2  0\\n  8 10  1  0\\n  5 11  1  0\\n 11 12  1  0\\n 12  3  1  0\\nM  CHG  2   1  -1   2   1\\nM  END\\n\",\"sdf\");\n",
       "\tviewer_1716452902621831.setStyle({\"stick\": {}});\n",
       "\tviewer_1716452902621831.addModel(\"\\n     RDKit          3D\\n\\n 12 12  0  0  0  0  0  0  0  0999 V2000\\n   -3.8705    3.2767   -1.2702 C   0  0  0  0  0  3  0  0  0  0  0  0\\n   -3.0572    2.4515   -1.1038 N   0  0  0  0  0  4  0  0  0  0  0  0\\n   -2.0481    1.4198   -0.9058 C   0  0  0  0  0  0  0  0  0  0  0  0\\n   -1.3438    1.2734    0.2181 C   0  0  0  0  0  0  0  0  0  0  0  0\\n   -0.4304    0.1654    0.0998 C   0  0  0  0  0  0  0  0  0  0  0  0\\n    0.4121   -0.2266    1.0659 C   0  0  0  0  0  0  0  0  0  0  0  0\\n    1.3830   -1.3716    0.9731 C   0  0  0  0  0  0  0  0  0  0  0  0\\n    2.8130   -0.9023    1.1522 C   0  0  0  0  0  0  0  0  0  0  0  0\\n    3.2045    0.1895    1.5289 O   0  0  0  0  0  0  0  0  0  0  0  0\\n    3.7007   -1.8798    0.8703 O   0  0  0  0  0  0  0  0  0  0  0  0\\n   -0.6086   -0.4316   -1.2754 C   0  0  0  0  0  0  0  0  0  0  0  0\\n   -1.6974    0.4149   -1.9481 C   0  0  0  0  0  0  0  0  0  0  0  0\\n  1  2  3  0\\n  2  3  1  0\\n  3  4  2  0\\n  4  5  1  0\\n  5  6  2  3\\n  6  7  1  0\\n  7  8  1  0\\n  8  9  2  0\\n  8 10  1  0\\n  5 11  1  0\\n 11 12  1  0\\n 12  3  1  0\\nM  CHG  2   1  -1   2   1\\nM  END\\n\",\"sdf\");\n",
       "\tviewer_1716452902621831.setStyle({\"stick\": {}});\n",
       "\tviewer_1716452902621831.setStyle({\"model\": 0},{\"stick\": {\"colorscheme\": \"cyanCarbon\"}});\n",
       "\tviewer_1716452902621831.setStyle({\"model\": 1},{\"stick\": {\"colorscheme\": \"redCarbon\"}});\n",
       "\tviewer_1716452902621831.setStyle({\"model\": 2},{\"stick\": {\"colorscheme\": \"blueCarbon\"}});\n",
       "\tviewer_1716452902621831.setStyle({\"model\": 3},{\"stick\": {\"colorscheme\": \"magentaCarbon\"}});\n",
       "\tviewer_1716452902621831.setStyle({\"model\": 4},{\"stick\": {\"colorscheme\": \"whiteCarbon\"}});\n",
       "\tviewer_1716452902621831.setStyle({\"model\": 5},{\"stick\": {\"colorscheme\": \"purpleCarbon\"}});\n",
       "\tviewer_1716452902621831.setStyle({\"model\": 6},{\"stick\": {\"colorscheme\": \"cyanCarbon\"}});\n",
       "\tviewer_1716452902621831.setStyle({\"model\": 7},{\"stick\": {\"colorscheme\": \"redCarbon\"}});\n",
       "\tviewer_1716452902621831.setStyle({\"model\": 8},{\"stick\": {\"colorscheme\": \"blueCarbon\"}});\n",
       "\tviewer_1716452902621831.setStyle({\"model\": 9},{\"stick\": {\"colorscheme\": \"magentaCarbon\"}});\n",
       "\tviewer_1716452902621831.zoomTo();\n",
       "viewer_1716452902621831.render();\n",
       "});\n",
       "</script>"
      ]
     },
     "metadata": {},
     "output_type": "display_data"
    }
   ],
   "source": [
    "#Visualize conformations\n",
    "from itertools import combinations\n",
    "\n",
    "print(f'Remove {len(confs.remove_ids)} conformations')\n",
    "print(f\"Number of remain conformations: {len(cids)}\")\n",
    "\n",
    "# Print energy of each conformation\n",
    "print(\"Energy of each conformation\")\n",
    "for conf in mol.GetConformers():\n",
    "    ff = AllChem.MMFFGetMoleculeForceField(mol, AllChem.MMFFGetMoleculeProperties(mol), confId=conf.GetId())\n",
    "    print(f\"Conformation {conf.GetId()} energy: {ff.CalcEnergy()}\")\n",
    "\n",
    "# Print RMSD between each pair of conformations\n",
    "print(\"#\" * 50)\n",
    "print(\"RMSD between each pair of conformations\")\n",
    "\n",
    "for confid1, confid2 in combinations(cids, 2):\n",
    "    \n",
    "    print(f\"RMSD between conf{confid1} and conf{confid2} is {AllChem.GetConformerRMS(mol, confid1, confid2)}\")\n",
    "\n",
    "visualize_conformations(mol, cids)\n"
   ]
  },
  {
   "cell_type": "markdown",
   "metadata": {},
   "source": [
    "## **3. Dataset**"
   ]
  },
  {
   "cell_type": "markdown",
   "metadata": {},
   "source": [
    "Our approach for this project is **Multi-instance learning** inspired from [*QSAR Modeling Based on Conformation Ensembles Using a Multi-Instance Learning Approach*](https://pubs.acs.org/doi/10.1021/acs.jcim.1c00692) paper.\n",
    "Therefore, I designed 2 pipeline to create 2 type of Graph dataset:\n",
    "- Instance Graph Dataset\n",
    "- Bag Graph Dataset "
   ]
  },
  {
   "cell_type": "markdown",
   "metadata": {},
   "source": [
    "### *3.1. Instance Dataset*"
   ]
  },
  {
   "cell_type": "markdown",
   "metadata": {},
   "source": [
    "Instance dataset stores individual conformations of each molecule as separate data points and the corresponding labels based of the activity of the molecule. I created `InstanceMoleculeDataset` to create Instance dataset. These are key characteristics of my module:\n",
    "- Data source:\n",
    "    - `root`: Root directory: \"./data_cdr1_instance_test/\"\n",
    "    - `filename`: Filename: \"cdr1_binary.csv\"\n",
    "    - `data`: csv file contains 3 columns: ID, SMILES, and Activity\n",
    "- Features:\n",
    "    - Extracts node and edge features from each molecular graph (conformation).\n",
    "    - Optionally incorporates 3D spatial information and atomic shape details.\n",
    "    - Handles multiple conformations per molecule, storing each as a separate data point.\n",
    "- Hyperparameters:\n",
    "    - `cut_off`: Distance cutoff for spatial features (default: 3.5).\n",
    "    - `num_confs`: Number of conformations generated per molecule (default: 10).\n",
    "    - `seed`: Random seed for RDKit conformer generation (default: 42).\n",
    "    - `rmsd`: Root mean square deviation threshold for conformer selection (default: 0.5).\n",
    "    - `energy`: Energy threshold for conformer selection (default: 10).\n",
    "    - `max_attemp`: Maximum attempts for conformer generation (default: 1000).\n",
    "    - `num_threads`: Number of threads for RDKit computations (default: -1, uses all available cores).\n",
    "    - Columns used:\n",
    "        - `smiles_col`: Column name containing SMILES strings for molecules (default: \"Canonicalsmiles\").\n",
    "        - `activity_col`: Column name containing activity labels (default: \"Activity\").\n",
    "- **Purpose**: This dataset is specifically designed for training and evaluating **InstanceNet** models, which analyze individual conformations of molecules. It provides the necessary features and structure for the model to learn relationships between atomic properties, spatial arrangements, and molecular activity within each conformation."
   ]
  },
  {
   "cell_type": "code",
   "execution_count": 22,
   "metadata": {},
   "outputs": [],
   "source": [
    "#TEST WITH THE FIRST 10 MOLECULES IN ORIGINAL DATASET\n",
    "data_test = data.iloc[:10,:]\n",
    "instancedataset = InstanceMoleculeDataset(root = \"./example_instances/\",\n",
    "                            filename = \"cdr1_binary.csv\",\n",
    "                            data = data_test, smiles_col = \"Canonical_smiles\", activity_col = \"Activity\",\n",
    "                            cut_off = 3.5, num_confs = 10, seed = 42, rmsd = 0.5, \n",
    "                            energy =10, max_attemp = 1000, num_threads = -1)"
   ]
  },
  {
   "cell_type": "markdown",
   "metadata": {},
   "source": [
    "The dataset resides in the `data_cdr1_instance_test` folder, which has three subfolders: `raw`, `processed`, and `processed_conformations_instances`.\n",
    "\n",
    "* **`raw`**: This folder stores the original data file in *.csv format.\n",
    "* **`processed`**: This folder contains preprocessed data files in *.pt format. These files encapsulate graph data encoded from the various molecular conformations.\n",
    "* **`processed_conformations_instances`**: This folder holds individual conformations saved as *.sdf files.\n",
    "\n",
    "It's important to note that this dataset creation process only needs to be executed once. Thereafter, we can effortlessly load the prepared dataset for subsequent usage."
   ]
  },
  {
   "cell_type": "markdown",
   "metadata": {},
   "source": [
    "Each data sample incorporates features readily obtainable for Graph Neural Networks (GNNs). Let's use the first data sample, representing the first conformation of Isonitrile, as an example:\n",
    "\n",
    "* **`edge_index`:** This defines the connections between nodes in the graph, representing **42 chemical bonds** in Isonitrile.\n",
    "* **`y`:** This label indicates whether Isonitrile is an active compound in the dataset (assuming \"1\" is activity and \"0\" is inactive).\n",
    "* **`pos`:** This encodes the **3D coordinates** of all **21 atoms** in Isonitrile.\n",
    "* **`node_features_2d`:** Each of the **21 nodes** has **10 2D node features**.\n",
    "* **`edge_attr_2d`:** Each of the **42 edges** has **5 2D edge features**.\n",
    "* **`node_features_3d`:** Each of the **21 nodes** has **8 3D node features**.\n",
    "* **`edge_attr_3d`:** Each of the **42 edges** has **8 3D edge features**.\n",
    "* **`smiles`:** This encodes the molecular structure of Isonitrile using the SMILES string.\n",
    "* **`conf_id`:** This unique identifier specifies that this is the **first conformation** among potentially multiple generated conformations for Isonitrile."
   ]
  },
  {
   "cell_type": "code",
   "execution_count": 18,
   "metadata": {},
   "outputs": [
    {
     "data": {
      "text/plain": [
       "Data(edge_index=[2, 42], y=[1], pos=[21, 3], node_features_2d=[21, 34], edge_attr_2d=[42, 12], node_features_3d=[21, 18], edge_attr_3d=[42, 8], smiles='[C-]#[N+]C1=CC(=CCC(=O)O)CC1', conf_id=0)"
      ]
     },
     "execution_count": 18,
     "metadata": {},
     "output_type": "execute_result"
    }
   ],
   "source": [
    "instancedataset[0]"
   ]
  },
  {
   "cell_type": "markdown",
   "metadata": {},
   "source": [
    "### *3.1. Bag Dataset*"
   ]
  },
  {
   "cell_type": "markdown",
   "metadata": {},
   "source": [
    "My `BagMoleculeDataset` module creates **BagDatasets**, a specific format to store **multiple conformations** for each molecule. Each \"bag\" containing these conformations represents a single data sample. This approach is similar to `InstanceMoleculeDataset` in principle, but differs in the **data sample structure**: bags vs. individual conformations. I'll explain the detailed structure of each data sample later.\n"
   ]
  },
  {
   "cell_type": "code",
   "execution_count": 21,
   "metadata": {},
   "outputs": [],
   "source": [
    "data_test = data.iloc[:10,:]\n",
    "bagdataset = BagMoleculeDataset(root = \"./example_bag/\",\n",
    "                            filename = \"cdr1_binary.csv\",\n",
    "                            data = data_test, smiles_col = \"Canonical_smiles\", activity_col = \"Activity\",\n",
    "                            cut_off = 3.5, num_confs = 10, seed = 42, rmsd = 0.5, \n",
    "                            energy =10, max_attemp = 1000, num_threads = -1)"
   ]
  },
  {
   "cell_type": "markdown",
   "metadata": {},
   "source": [
    "The dataset resides in the `data_cdr1_bag_test` folder, which has three subfolders: `raw`, `processed`, and `processed_conformations_bag`.\n",
    "\n",
    "* **`raw`**: This folder stores the original data file in *.csv format.\n",
    "* **`processed`**: This folder contains preprocessed data files in *.pt format. These files encapsulate graph data encoded from the **bag** containing various molecular conformations.\n",
    "* **`processed_conformations_instances`**: This folder holds individual conformations saved as *.sdf files.\n",
    "\n",
    "It's important to note that this dataset creation process only needs to be executed once. Thereafter, we can effortlessly load the prepared dataset for subsequent usage."
   ]
  },
  {
   "cell_type": "code",
   "execution_count": 23,
   "metadata": {},
   "outputs": [
    {
     "data": {
      "text/plain": [
       "Data(y=[1], instance_data=[10], smiles='[C-]#[N+]C1=CC(=CCC(=O)O)CC1', num_instances=10)"
      ]
     },
     "execution_count": 23,
     "metadata": {},
     "output_type": "execute_result"
    }
   ],
   "source": [
    "bagdataset[0]"
   ]
  },
  {
   "cell_type": "markdown",
   "metadata": {},
   "source": [
    "Each data sample represents a \"Bag\" and incorporates the following features:\n",
    "\n",
    "* **`y`:** This label indicates whether the molecule in the Bag is active (assuming \"1\" signifies activity and \"0\" inactivity).\n",
    "* **`instance_data`:** This is a list of Graph DataSets, each holding features for a single conformation within the Bag. In this example, the Bag for Isonitrile contains 10 Graph DataSets (one for each of the 10 generated conformations) since no conformations were removed based on the RMSD and energy thresholds.\n",
    "* **`smiles`:** This encodes the canonical SMILES string of the molecule represented by the Bag.\n",
    "* **`num_instances`:** This value specifies the number of conformations (Graph DataSets) included in the Bag. In this case, the Isonitrile Bag contains 10 instances."
   ]
  },
  {
   "cell_type": "markdown",
   "metadata": {},
   "source": [
    "Each instance in a Bag represents a single conformation of the molecule and is encoded as a graph dataset holding the same features described earlier."
   ]
  },
  {
   "cell_type": "code",
   "execution_count": 24,
   "metadata": {},
   "outputs": [
    {
     "data": {
      "text/plain": [
       "[Data(edge_index=[2, 42], y=[1], pos=[21, 3], node_features_2d=[21, 34], edge_attr_2d=[42, 11], node_features_3d=[21, 18], edge_attr_3d=[42, 9], smiles='[C-]#[N+]C1=CC(=CCC(=O)O)CC1', conf_id=0),\n",
       " Data(edge_index=[2, 42], y=[1], pos=[21, 3], node_features_2d=[21, 34], edge_attr_2d=[42, 11], node_features_3d=[21, 18], edge_attr_3d=[42, 9], smiles='[C-]#[N+]C1=CC(=CCC(=O)O)CC1', conf_id=1),\n",
       " Data(edge_index=[2, 42], y=[1], pos=[21, 3], node_features_2d=[21, 34], edge_attr_2d=[42, 11], node_features_3d=[21, 18], edge_attr_3d=[42, 9], smiles='[C-]#[N+]C1=CC(=CCC(=O)O)CC1', conf_id=2),\n",
       " Data(edge_index=[2, 42], y=[1], pos=[21, 3], node_features_2d=[21, 34], edge_attr_2d=[42, 11], node_features_3d=[21, 18], edge_attr_3d=[42, 9], smiles='[C-]#[N+]C1=CC(=CCC(=O)O)CC1', conf_id=3),\n",
       " Data(edge_index=[2, 42], y=[1], pos=[21, 3], node_features_2d=[21, 34], edge_attr_2d=[42, 11], node_features_3d=[21, 18], edge_attr_3d=[42, 9], smiles='[C-]#[N+]C1=CC(=CCC(=O)O)CC1', conf_id=4),\n",
       " Data(edge_index=[2, 42], y=[1], pos=[21, 3], node_features_2d=[21, 34], edge_attr_2d=[42, 11], node_features_3d=[21, 18], edge_attr_3d=[42, 9], smiles='[C-]#[N+]C1=CC(=CCC(=O)O)CC1', conf_id=5),\n",
       " Data(edge_index=[2, 42], y=[1], pos=[21, 3], node_features_2d=[21, 34], edge_attr_2d=[42, 11], node_features_3d=[21, 18], edge_attr_3d=[42, 9], smiles='[C-]#[N+]C1=CC(=CCC(=O)O)CC1', conf_id=6),\n",
       " Data(edge_index=[2, 42], y=[1], pos=[21, 3], node_features_2d=[21, 34], edge_attr_2d=[42, 11], node_features_3d=[21, 18], edge_attr_3d=[42, 9], smiles='[C-]#[N+]C1=CC(=CCC(=O)O)CC1', conf_id=7),\n",
       " Data(edge_index=[2, 42], y=[1], pos=[21, 3], node_features_2d=[21, 34], edge_attr_2d=[42, 11], node_features_3d=[21, 18], edge_attr_3d=[42, 9], smiles='[C-]#[N+]C1=CC(=CCC(=O)O)CC1', conf_id=8),\n",
       " Data(edge_index=[2, 42], y=[1], pos=[21, 3], node_features_2d=[21, 34], edge_attr_2d=[42, 11], node_features_3d=[21, 18], edge_attr_3d=[42, 9], smiles='[C-]#[N+]C1=CC(=CCC(=O)O)CC1', conf_id=9)]"
      ]
     },
     "execution_count": 24,
     "metadata": {},
     "output_type": "execute_result"
    }
   ],
   "source": [
    "bagdataset[0].instance_data"
   ]
  }
 ],
 "metadata": {
  "kernelspec": {
   "display_name": "Python 3 (ipykernel)",
   "language": "python",
   "name": "python3"
  },
  "language_info": {
   "codemirror_mode": {
    "name": "ipython",
    "version": 3
   },
   "file_extension": ".py",
   "mimetype": "text/x-python",
   "name": "python",
   "nbconvert_exporter": "python",
   "pygments_lexer": "ipython3",
   "version": "3.9.19"
  }
 },
 "nbformat": 4,
 "nbformat_minor": 4
}
