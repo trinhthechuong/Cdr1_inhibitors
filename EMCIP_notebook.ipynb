{
 "cells": [
  {
   "cell_type": "markdown",
   "metadata": {},
   "source": [
    "# **1. Input CSV File**"
   ]
  },
  {
   "cell_type": "markdown",
   "metadata": {},
   "source": []
  },
  {
   "cell_type": "code",
   "execution_count": 4,
   "metadata": {},
   "outputs": [],
   "source": [
    "import warnings\n",
    "warnings.filterwarnings(\"ignore\")\n",
    "from Utility.Featurizer_deploy import data_input\n",
    "data_path = 'data_deploy.csv'\n",
    "ID_col = 'ID'\n",
    "SMILES_col = 'Standardize_smile'\n",
    "input_data = data_input(data_path=data_path, ID=ID_col, smiles_col=SMILES_col)\n",
    "data_predict = input_data.read_data()"
   ]
  },
  {
   "cell_type": "markdown",
   "metadata": {},
   "source": [
    "# **2. Data Featurization**"
   ]
  },
  {
   "cell_type": "code",
   "execution_count": 5,
   "metadata": {},
   "outputs": [
    {
     "name": "stderr",
     "output_type": "stream",
     "text": [
      "100%|██████████| 10/10 [00:00<00:00, 882.38it/s]\n",
      "100%|██████████| 10/10 [00:00<00:00, 437.91it/s]\n",
      "100%|██████████| 10/10 [00:00<00:00, 202.11it/s]\n",
      "100%|██████████| 10/10 [00:02<00:00,  4.14it/s]\n"
     ]
    },
    {
     "data": {
      "application/vnd.jupyter.widget-view+json": {
       "model_id": "956fb82b129844cf9f4f32c31f77a1da",
       "version_major": 2,
       "version_minor": 0
      },
      "text/plain": [
       "Output()"
      ]
     },
     "metadata": {},
     "output_type": "display_data"
    },
    {
     "data": {
      "text/html": [
       "<pre style=\"white-space:pre;overflow-x:auto;line-height:normal;font-family:Menlo,'DejaVu Sans Mono',consolas,'Courier New',monospace\"></pre>\n"
      ],
      "text/plain": []
     },
     "metadata": {},
     "output_type": "display_data"
    },
    {
     "data": {
      "text/html": [
       "<pre style=\"white-space:pre;overflow-x:auto;line-height:normal;font-family:Menlo,'DejaVu Sans Mono',consolas,'Courier New',monospace\">\n",
       "</pre>\n"
      ],
      "text/plain": [
       "\n"
      ]
     },
     "metadata": {},
     "output_type": "display_data"
    }
   ],
   "source": [
    "from Utility.Featurizer_streamlit import featurizer\n",
    "featurizer_st = featurizer(data_predict, ID = ID_col, smiles_col = SMILES_col, active_col = \"Activity\", save_dir = \"Cdr1_classification/\", n_jobs = 5)\n",
    "rdk5_df, rdk6_df, rdk7_df, avalon_df, ph4_processed, mordred_df, graph_dataset = featurizer_st.run()"
   ]
  },
  {
   "cell_type": "markdown",
   "metadata": {},
   "source": [
    "# **3. Cdr1 Inhibitor Prediction** "
   ]
  },
  {
   "cell_type": "code",
   "execution_count": 6,
   "metadata": {},
   "outputs": [
    {
     "data": {
      "text/html": [
       "<div>\n",
       "<style scoped>\n",
       "    .dataframe tbody tr th:only-of-type {\n",
       "        vertical-align: middle;\n",
       "    }\n",
       "\n",
       "    .dataframe tbody tr th {\n",
       "        vertical-align: top;\n",
       "    }\n",
       "\n",
       "    .dataframe thead th {\n",
       "        text-align: right;\n",
       "    }\n",
       "</style>\n",
       "<table border=\"1\" class=\"dataframe\">\n",
       "  <thead>\n",
       "    <tr style=\"text-align: right;\">\n",
       "      <th></th>\n",
       "      <th>ID</th>\n",
       "      <th>Standardized SMILES</th>\n",
       "      <th>Probability</th>\n",
       "      <th>Prediction</th>\n",
       "    </tr>\n",
       "  </thead>\n",
       "  <tbody>\n",
       "    <tr>\n",
       "      <th>0</th>\n",
       "      <td>24818973</td>\n",
       "      <td>Cc1ccc(OCc2cc(C(=O)NCC(C)(C)N3CCOCC3)no2)cc1C</td>\n",
       "      <td>0.003489</td>\n",
       "      <td>0</td>\n",
       "    </tr>\n",
       "    <tr>\n",
       "      <th>1</th>\n",
       "      <td>spiroindolinone_24</td>\n",
       "      <td>Cc1c(Cl)ccc2c1NC(=O)[C@@]21c2c(c(O)n(-c3ccccc3...</td>\n",
       "      <td>0.995414</td>\n",
       "      <td>1</td>\n",
       "    </tr>\n",
       "    <tr>\n",
       "      <th>2</th>\n",
       "      <td>44601952</td>\n",
       "      <td>COc1cc(OC)cc(-c2sc3ccc(OC)cc3c2-c2ccc(OCCN3CCC...</td>\n",
       "      <td>0.986264</td>\n",
       "      <td>1</td>\n",
       "    </tr>\n",
       "    <tr>\n",
       "      <th>3</th>\n",
       "      <td>44601949</td>\n",
       "      <td>COc1cccc(-c2sc3ccc(OC)cc3c2-c2ccc(OCCN3CCCCC3)...</td>\n",
       "      <td>0.978856</td>\n",
       "      <td>1</td>\n",
       "    </tr>\n",
       "    <tr>\n",
       "      <th>4</th>\n",
       "      <td>N_ethylmaleimid</td>\n",
       "      <td>CCN1C(=O)C=CC1=O</td>\n",
       "      <td>0.020636</td>\n",
       "      <td>0</td>\n",
       "    </tr>\n",
       "  </tbody>\n",
       "</table>\n",
       "</div>"
      ],
      "text/plain": [
       "                   ID                                Standardized SMILES  \\\n",
       "0            24818973      Cc1ccc(OCc2cc(C(=O)NCC(C)(C)N3CCOCC3)no2)cc1C   \n",
       "1  spiroindolinone_24  Cc1c(Cl)ccc2c1NC(=O)[C@@]21c2c(c(O)n(-c3ccccc3...   \n",
       "2            44601952  COc1cc(OC)cc(-c2sc3ccc(OC)cc3c2-c2ccc(OCCN3CCC...   \n",
       "3            44601949  COc1cccc(-c2sc3ccc(OC)cc3c2-c2ccc(OCCN3CCCCC3)...   \n",
       "4     N_ethylmaleimid                                   CCN1C(=O)C=CC1=O   \n",
       "\n",
       "   Probability  Prediction  \n",
       "0     0.003489           0  \n",
       "1     0.995414           1  \n",
       "2     0.986264           1  \n",
       "3     0.978856           1  \n",
       "4     0.020636           0  "
      ]
     },
     "metadata": {},
     "output_type": "display_data"
    }
   ],
   "source": [
    "from Utility.cdr1_model_predict import ensemble_predict\n",
    "fpt_datasets = [rdk5_df, rdk6_df, rdk7_df, mordred_df, avalon_df, ph4_processed]\n",
    "predict = ensemble_predict(fpt_datasets, graph_dataset, ID_col, SMILES_col)\n",
    "df_predictions = predict.predict()\n",
    "display(df_predictions.head())"
   ]
  }
 ],
 "metadata": {
  "kernelspec": {
   "display_name": "cdr1_inhibitors_classification",
   "language": "python",
   "name": "python3"
  },
  "language_info": {
   "codemirror_mode": {
    "name": "ipython",
    "version": 3
   },
   "file_extension": ".py",
   "mimetype": "text/x-python",
   "name": "python",
   "nbconvert_exporter": "python",
   "pygments_lexer": "ipython3",
   "version": "3.9.19"
  }
 },
 "nbformat": 4,
 "nbformat_minor": 2
}
