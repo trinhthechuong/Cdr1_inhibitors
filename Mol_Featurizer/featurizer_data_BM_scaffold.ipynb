{
 "cells": [
  {
   "cell_type": "code",
   "execution_count": 1,
   "metadata": {},
   "outputs": [
    {
     "data": {
      "text/html": [
       "<div>\n",
       "<style scoped>\n",
       "    .dataframe tbody tr th:only-of-type {\n",
       "        vertical-align: middle;\n",
       "    }\n",
       "\n",
       "    .dataframe tbody tr th {\n",
       "        vertical-align: top;\n",
       "    }\n",
       "\n",
       "    .dataframe thead th {\n",
       "        text-align: right;\n",
       "    }\n",
       "</style>\n",
       "<table border=\"1\" class=\"dataframe\">\n",
       "  <thead>\n",
       "    <tr style=\"text-align: right;\">\n",
       "      <th></th>\n",
       "      <th>ID</th>\n",
       "      <th>Canonicalsmiles</th>\n",
       "      <th>Activity</th>\n",
       "    </tr>\n",
       "  </thead>\n",
       "  <tbody>\n",
       "    <tr>\n",
       "      <th>0</th>\n",
       "      <td>Isonitrile_1</td>\n",
       "      <td>[C-]#[N+]C1=CC(=CCC(=O)O)CC1</td>\n",
       "      <td>1</td>\n",
       "    </tr>\n",
       "    <tr>\n",
       "      <th>1</th>\n",
       "      <td>WK14</td>\n",
       "      <td>Oc1ccccc1/C=C/c1ccc2cccc(O)c2n1</td>\n",
       "      <td>1</td>\n",
       "    </tr>\n",
       "    <tr>\n",
       "      <th>2</th>\n",
       "      <td>WK14B</td>\n",
       "      <td>CC(=O)Oc1ccccc1/C=C/c1ccc2cccc(OC(C)=O)c2n1</td>\n",
       "      <td>1</td>\n",
       "    </tr>\n",
       "    <tr>\n",
       "      <th>3</th>\n",
       "      <td>WK15</td>\n",
       "      <td>Oc1cccc(/C=C/c2ccc3cccc(O)c3n2)c1</td>\n",
       "      <td>0</td>\n",
       "    </tr>\n",
       "    <tr>\n",
       "      <th>4</th>\n",
       "      <td>WK15B</td>\n",
       "      <td>CC(=O)Oc1cccc(/C=C/c2ccc3cccc(O)c3n2)c1</td>\n",
       "      <td>0</td>\n",
       "    </tr>\n",
       "  </tbody>\n",
       "</table>\n",
       "</div>"
      ],
      "text/plain": [
       "             ID                              Canonicalsmiles  Activity\n",
       "0  Isonitrile_1                 [C-]#[N+]C1=CC(=CCC(=O)O)CC1         1\n",
       "1          WK14              Oc1ccccc1/C=C/c1ccc2cccc(O)c2n1         1\n",
       "2         WK14B  CC(=O)Oc1ccccc1/C=C/c1ccc2cccc(OC(C)=O)c2n1         1\n",
       "3          WK15            Oc1cccc(/C=C/c2ccc3cccc(O)c3n2)c1         0\n",
       "4         WK15B      CC(=O)Oc1cccc(/C=C/c2ccc3cccc(O)c3n2)c1         0"
      ]
     },
     "execution_count": 1,
     "metadata": {},
     "output_type": "execute_result"
    }
   ],
   "source": [
    "#Loading dataset\n",
    "import pandas as pd\n",
    "df = pd.read_csv(\"/Users/thechuongtrinh/Documents/Workspace/Master_thesis/Cdr1/data/Official/cdr1_binary_0902.csv\")\n",
    "#Binarization acitivity\n",
    "df.head()"
   ]
  },
  {
   "cell_type": "code",
   "execution_count": 2,
   "metadata": {},
   "outputs": [],
   "source": [
    "from rdkit import Chem\n",
    "def search_elements_in_dataframe(df, smiles_column, element_symbol):\n",
    "    found_indices = []\n",
    "    for index, row in df.iterrows():\n",
    "        smiles = row[smiles_column]\n",
    "        mol = Chem.MolFromSmiles(smiles)\n",
    "        if mol and any(atom.GetSymbol() == element_symbol for atom in mol.GetAtoms()):\n",
    "            found_indices.append(index)\n",
    "    return found_indices\n",
    "se_indices = search_elements_in_dataframe(df, \"Canonicalsmiles\", \"Se\")\n",
    "te_indices = search_elements_in_dataframe(df, \"Canonicalsmiles\", \"Te\")\n",
    "error_index = se_indices+te_indices \n",
    "data_cdr1 = df.drop(error_index, axis = 0).reset_index(drop=True)"
   ]
  },
  {
   "cell_type": "code",
   "execution_count": 6,
   "metadata": {},
   "outputs": [
    {
     "name": "stderr",
     "output_type": "stream",
     "text": [
      "100%|██████████| 1814/1814 [00:00<00:00, 2358.41it/s]\n",
      "100%|██████████| 1814/1814 [00:18<00:00, 100.77it/s]\n"
     ]
    },
    {
     "data": {
      "text/html": [
       "<div>\n",
       "<style scoped>\n",
       "    .dataframe tbody tr th:only-of-type {\n",
       "        vertical-align: middle;\n",
       "    }\n",
       "\n",
       "    .dataframe tbody tr th {\n",
       "        vertical-align: top;\n",
       "    }\n",
       "\n",
       "    .dataframe thead th {\n",
       "        text-align: right;\n",
       "    }\n",
       "</style>\n",
       "<table border=\"1\" class=\"dataframe\">\n",
       "  <thead>\n",
       "    <tr style=\"text-align: right;\">\n",
       "      <th></th>\n",
       "      <th>ID</th>\n",
       "      <th>Canonicalsmiles</th>\n",
       "      <th>Activity</th>\n",
       "      <th>Molecule</th>\n",
       "      <th>Standardize_smile</th>\n",
       "    </tr>\n",
       "  </thead>\n",
       "  <tbody>\n",
       "    <tr>\n",
       "      <th>0</th>\n",
       "      <td>Isonitrile_1</td>\n",
       "      <td>[C-]#[N+]C1=CC(=CCC(=O)O)CC1</td>\n",
       "      <td>1</td>\n",
       "      <td>&lt;rdkit.Chem.rdchem.Mol object at 0x290077120&gt;</td>\n",
       "      <td>[C-]#[N+]C1=CC(=CCC(=O)O)CC1</td>\n",
       "    </tr>\n",
       "    <tr>\n",
       "      <th>1</th>\n",
       "      <td>WK14</td>\n",
       "      <td>Oc1ccccc1/C=C/c1ccc2cccc(O)c2n1</td>\n",
       "      <td>1</td>\n",
       "      <td>&lt;rdkit.Chem.rdchem.Mol object at 0x290077190&gt;</td>\n",
       "      <td>Oc1ccccc1/C=C/c1ccc2cccc(O)c2n1</td>\n",
       "    </tr>\n",
       "    <tr>\n",
       "      <th>2</th>\n",
       "      <td>WK14B</td>\n",
       "      <td>CC(=O)Oc1ccccc1/C=C/c1ccc2cccc(OC(C)=O)c2n1</td>\n",
       "      <td>1</td>\n",
       "      <td>&lt;rdkit.Chem.rdchem.Mol object at 0x290077200&gt;</td>\n",
       "      <td>CC(=O)Oc1ccccc1/C=C/c1ccc2cccc(OC(C)=O)c2n1</td>\n",
       "    </tr>\n",
       "    <tr>\n",
       "      <th>3</th>\n",
       "      <td>WK15</td>\n",
       "      <td>Oc1cccc(/C=C/c2ccc3cccc(O)c3n2)c1</td>\n",
       "      <td>0</td>\n",
       "      <td>&lt;rdkit.Chem.rdchem.Mol object at 0x290077270&gt;</td>\n",
       "      <td>Oc1cccc(/C=C/c2ccc3cccc(O)c3n2)c1</td>\n",
       "    </tr>\n",
       "    <tr>\n",
       "      <th>4</th>\n",
       "      <td>WK15B</td>\n",
       "      <td>CC(=O)Oc1cccc(/C=C/c2ccc3cccc(O)c3n2)c1</td>\n",
       "      <td>0</td>\n",
       "      <td>&lt;rdkit.Chem.rdchem.Mol object at 0x2900772e0&gt;</td>\n",
       "      <td>CC(=O)Oc1cccc(/C=C/c2ccc3cccc(O)c3n2)c1</td>\n",
       "    </tr>\n",
       "  </tbody>\n",
       "</table>\n",
       "</div>"
      ],
      "text/plain": [
       "             ID                              Canonicalsmiles  Activity  \\\n",
       "0  Isonitrile_1                 [C-]#[N+]C1=CC(=CCC(=O)O)CC1         1   \n",
       "1          WK14              Oc1ccccc1/C=C/c1ccc2cccc(O)c2n1         1   \n",
       "2         WK14B  CC(=O)Oc1ccccc1/C=C/c1ccc2cccc(OC(C)=O)c2n1         1   \n",
       "3          WK15            Oc1cccc(/C=C/c2ccc3cccc(O)c3n2)c1         0   \n",
       "4         WK15B      CC(=O)Oc1cccc(/C=C/c2ccc3cccc(O)c3n2)c1         0   \n",
       "\n",
       "                                        Molecule  \\\n",
       "0  <rdkit.Chem.rdchem.Mol object at 0x290077120>   \n",
       "1  <rdkit.Chem.rdchem.Mol object at 0x290077190>   \n",
       "2  <rdkit.Chem.rdchem.Mol object at 0x290077200>   \n",
       "3  <rdkit.Chem.rdchem.Mol object at 0x290077270>   \n",
       "4  <rdkit.Chem.rdchem.Mol object at 0x2900772e0>   \n",
       "\n",
       "                             Standardize_smile  \n",
       "0                 [C-]#[N+]C1=CC(=CCC(=O)O)CC1  \n",
       "1              Oc1ccccc1/C=C/c1ccc2cccc(O)c2n1  \n",
       "2  CC(=O)Oc1ccccc1/C=C/c1ccc2cccc(OC(C)=O)c2n1  \n",
       "3            Oc1cccc(/C=C/c2ccc3cccc(O)c3n2)c1  \n",
       "4      CC(=O)Oc1cccc(/C=C/c2ccc3cccc(O)c3n2)c1  "
      ]
     },
     "execution_count": 6,
     "metadata": {},
     "output_type": "execute_result"
    }
   ],
   "source": [
    "import sys, os\n",
    "sys.path.append(\"./ultility/\")\n",
    "from ultility.standardize import standardization\n",
    "from rdkit.rdBase import BlockLogs\n",
    "\n",
    "\n",
    "block = BlockLogs()\n",
    "std = standardization(data=data_cdr1,ID='ID', smiles_col='Canonicalsmiles', active_col='Activity', ro5 =0)\n",
    "data = std.filter_data()\n",
    "data.head()"
   ]
  },
  {
   "cell_type": "code",
   "execution_count": 8,
   "metadata": {},
   "outputs": [
    {
     "name": "stdout",
     "output_type": "stream",
     "text": [
      "COVERTING SMILES TO MOLECULES...\n"
     ]
    },
    {
     "name": "stderr",
     "output_type": "stream",
     "text": [
      "100%|██████████| 1814/1814 [00:00<00:00, 9880.87it/s]\n"
     ]
    },
    {
     "name": "stdout",
     "output_type": "stream",
     "text": [
      "CALCULATING RDK5 FINGERPRINTS...\n"
     ]
    },
    {
     "name": "stderr",
     "output_type": "stream",
     "text": [
      "100%|██████████| 1814/1814 [00:00<00:00, 2228.76it/s]\n"
     ]
    },
    {
     "name": "stdout",
     "output_type": "stream",
     "text": [
      "CALCULATING RDK6 FINGERPRINTS...\n"
     ]
    },
    {
     "name": "stderr",
     "output_type": "stream",
     "text": [
      "100%|██████████| 1814/1814 [00:01<00:00, 1257.33it/s]\n"
     ]
    },
    {
     "name": "stdout",
     "output_type": "stream",
     "text": [
      "CALCULATING RDK7 FINGERPRINTS...\n"
     ]
    },
    {
     "name": "stderr",
     "output_type": "stream",
     "text": [
      "100%|██████████| 1814/1814 [00:02<00:00, 683.68it/s]\n"
     ]
    },
    {
     "name": "stdout",
     "output_type": "stream",
     "text": [
      "CALCULATING ECFP2 FINGERPRINTS...\n"
     ]
    },
    {
     "name": "stderr",
     "output_type": "stream",
     "text": [
      "100%|██████████| 1814/1814 [00:00<00:00, 17658.42it/s]\n"
     ]
    },
    {
     "name": "stdout",
     "output_type": "stream",
     "text": [
      "CALCULATING ECFP4 FINGERPRINTS...\n"
     ]
    },
    {
     "name": "stderr",
     "output_type": "stream",
     "text": [
      "100%|██████████| 1814/1814 [00:00<00:00, 12436.93it/s]\n"
     ]
    },
    {
     "name": "stdout",
     "output_type": "stream",
     "text": [
      "CALCULATING ECFP6 FINGERPRINTS...\n"
     ]
    },
    {
     "name": "stderr",
     "output_type": "stream",
     "text": [
      "100%|██████████| 1814/1814 [00:00<00:00, 8462.83it/s]\n"
     ]
    },
    {
     "name": "stdout",
     "output_type": "stream",
     "text": [
      "CALCULATING MACCs FINGERPRINTS...\n"
     ]
    },
    {
     "name": "stderr",
     "output_type": "stream",
     "text": [
      "100%|██████████| 1814/1814 [00:01<00:00, 1513.54it/s]\n"
     ]
    },
    {
     "name": "stdout",
     "output_type": "stream",
     "text": [
      "CALCULATING AVALON FINGERPRINTS...\n"
     ]
    },
    {
     "name": "stderr",
     "output_type": "stream",
     "text": [
      "100%|██████████| 1814/1814 [00:00<00:00, 2226.88it/s]\n"
     ]
    },
    {
     "name": "stdout",
     "output_type": "stream",
     "text": [
      "CALCULATING PUBCHEM FINGERPRINTS...\n"
     ]
    },
    {
     "name": "stderr",
     "output_type": "stream",
     "text": [
      "100%|██████████| 1814/1814 [00:33<00:00, 54.55it/s]\n"
     ]
    },
    {
     "name": "stdout",
     "output_type": "stream",
     "text": [
      "CALCULATING MAP4 FINGERPRINTS...\n"
     ]
    },
    {
     "name": "stderr",
     "output_type": "stream",
     "text": [
      "100%|██████████| 1814/1814 [00:04<00:00, 389.17it/s]\n"
     ]
    },
    {
     "name": "stdout",
     "output_type": "stream",
     "text": [
      "CALCULATING SECFP FINGERPRINTS...\n"
     ]
    },
    {
     "name": "stderr",
     "output_type": "stream",
     "text": [
      "100%|██████████| 1814/1814 [00:09<00:00, 182.14it/s]\n"
     ]
    },
    {
     "name": "stdout",
     "output_type": "stream",
     "text": [
      "CALCULATING PHARMACOPHORE GOBBI FINGERPRINTS...\n"
     ]
    },
    {
     "name": "stderr",
     "output_type": "stream",
     "text": [
      "100%|██████████| 1814/1814 [00:27<00:00, 65.12it/s] \n"
     ]
    },
    {
     "name": "stdout",
     "output_type": "stream",
     "text": [
      "CALCULATING PHARMACOPHORE CATS2D FINGERPRINTS...\n"
     ]
    },
    {
     "name": "stderr",
     "output_type": "stream",
     "text": [
      "100%|██████████| 1814/1814 [00:05<00:00, 325.05it/s]\n"
     ]
    },
    {
     "name": "stdout",
     "output_type": "stream",
     "text": [
      "CALCULATING RDKit descriptors...\n"
     ]
    },
    {
     "name": "stderr",
     "output_type": "stream",
     "text": [
      "100%|██████████| 1814/1814 [00:20<00:00, 89.88it/s]\n"
     ]
    },
    {
     "name": "stdout",
     "output_type": "stream",
     "text": [
      "CALCULATING Mol2vec...\n"
     ]
    },
    {
     "name": "stderr",
     "output_type": "stream",
     "text": [
      "100%|██████████| 1814/1814 [00:01<00:00, 1448.94it/s]\n"
     ]
    },
    {
     "name": "stdout",
     "output_type": "stream",
     "text": [
      "FINISH CALCULATING!\n"
     ]
    }
   ],
   "source": [
    "from ultility.Featurizer import Featurize\n",
    "import warnings\n",
    "warnings.filterwarnings(action='ignore')\n",
    "#data = pd.read_csv(\"./data/Official/data_standardize.csv\")\n",
    "\n",
    "    #display(df.head(2))\n",
    "folder = str('./Cdr1_featurized_scaffold')\n",
    "isExist = os.path.exists(folder)\n",
    "if not isExist:\n",
    "    os.makedirs(folder)\n",
    "save_dir = folder+'/'\n",
    "\n",
    "\n",
    "fp = Featurize(data=data, smile_col='Standardize_smile', activity_col='Activity', \n",
    "            ID='ID', save_dir=save_dir, m2v_path = './ultility/model_300dim.pkl', standardize = False)\n",
    "fp.Apply()"
   ]
  },
  {
   "cell_type": "code",
   "execution_count": 14,
   "metadata": {},
   "outputs": [
    {
     "data": {
      "text/html": [
       "<div>\n",
       "<style scoped>\n",
       "    .dataframe tbody tr th:only-of-type {\n",
       "        vertical-align: middle;\n",
       "    }\n",
       "\n",
       "    .dataframe tbody tr th {\n",
       "        vertical-align: top;\n",
       "    }\n",
       "\n",
       "    .dataframe thead th {\n",
       "        text-align: right;\n",
       "    }\n",
       "</style>\n",
       "<table border=\"1\" class=\"dataframe\">\n",
       "  <thead>\n",
       "    <tr style=\"text-align: right;\">\n",
       "      <th></th>\n",
       "      <th>ID</th>\n",
       "      <th>Standardize_smile</th>\n",
       "      <th>Activity</th>\n",
       "      <th>0</th>\n",
       "      <th>1</th>\n",
       "      <th>2</th>\n",
       "      <th>3</th>\n",
       "      <th>4</th>\n",
       "      <th>5</th>\n",
       "      <th>6</th>\n",
       "      <th>...</th>\n",
       "      <th>4086</th>\n",
       "      <th>4087</th>\n",
       "      <th>4088</th>\n",
       "      <th>4089</th>\n",
       "      <th>4090</th>\n",
       "      <th>4091</th>\n",
       "      <th>4092</th>\n",
       "      <th>4093</th>\n",
       "      <th>4094</th>\n",
       "      <th>4095</th>\n",
       "    </tr>\n",
       "  </thead>\n",
       "  <tbody>\n",
       "    <tr>\n",
       "      <th>0</th>\n",
       "      <td>Isonitrile_1</td>\n",
       "      <td>[C-]#[N+]C1=CC(=CCC(=O)O)CC1</td>\n",
       "      <td>1</td>\n",
       "      <td>0</td>\n",
       "      <td>0</td>\n",
       "      <td>0</td>\n",
       "      <td>0</td>\n",
       "      <td>0</td>\n",
       "      <td>0</td>\n",
       "      <td>0</td>\n",
       "      <td>...</td>\n",
       "      <td>1</td>\n",
       "      <td>0</td>\n",
       "      <td>0</td>\n",
       "      <td>0</td>\n",
       "      <td>0</td>\n",
       "      <td>0</td>\n",
       "      <td>0</td>\n",
       "      <td>0</td>\n",
       "      <td>0</td>\n",
       "      <td>0</td>\n",
       "    </tr>\n",
       "    <tr>\n",
       "      <th>1</th>\n",
       "      <td>WK14</td>\n",
       "      <td>Oc1ccccc1/C=C/c1ccc2cccc(O)c2n1</td>\n",
       "      <td>1</td>\n",
       "      <td>0</td>\n",
       "      <td>0</td>\n",
       "      <td>0</td>\n",
       "      <td>0</td>\n",
       "      <td>0</td>\n",
       "      <td>1</td>\n",
       "      <td>0</td>\n",
       "      <td>...</td>\n",
       "      <td>0</td>\n",
       "      <td>0</td>\n",
       "      <td>0</td>\n",
       "      <td>0</td>\n",
       "      <td>0</td>\n",
       "      <td>0</td>\n",
       "      <td>0</td>\n",
       "      <td>0</td>\n",
       "      <td>0</td>\n",
       "      <td>0</td>\n",
       "    </tr>\n",
       "    <tr>\n",
       "      <th>2</th>\n",
       "      <td>WK14B</td>\n",
       "      <td>CC(=O)Oc1ccccc1/C=C/c1ccc2cccc(OC(C)=O)c2n1</td>\n",
       "      <td>1</td>\n",
       "      <td>0</td>\n",
       "      <td>0</td>\n",
       "      <td>0</td>\n",
       "      <td>0</td>\n",
       "      <td>0</td>\n",
       "      <td>1</td>\n",
       "      <td>0</td>\n",
       "      <td>...</td>\n",
       "      <td>0</td>\n",
       "      <td>0</td>\n",
       "      <td>0</td>\n",
       "      <td>1</td>\n",
       "      <td>0</td>\n",
       "      <td>0</td>\n",
       "      <td>0</td>\n",
       "      <td>1</td>\n",
       "      <td>0</td>\n",
       "      <td>0</td>\n",
       "    </tr>\n",
       "    <tr>\n",
       "      <th>3</th>\n",
       "      <td>WK15</td>\n",
       "      <td>Oc1cccc(/C=C/c2ccc3cccc(O)c3n2)c1</td>\n",
       "      <td>0</td>\n",
       "      <td>0</td>\n",
       "      <td>0</td>\n",
       "      <td>0</td>\n",
       "      <td>0</td>\n",
       "      <td>0</td>\n",
       "      <td>1</td>\n",
       "      <td>0</td>\n",
       "      <td>...</td>\n",
       "      <td>0</td>\n",
       "      <td>0</td>\n",
       "      <td>0</td>\n",
       "      <td>0</td>\n",
       "      <td>0</td>\n",
       "      <td>0</td>\n",
       "      <td>0</td>\n",
       "      <td>0</td>\n",
       "      <td>0</td>\n",
       "      <td>0</td>\n",
       "    </tr>\n",
       "    <tr>\n",
       "      <th>4</th>\n",
       "      <td>WK15B</td>\n",
       "      <td>CC(=O)Oc1cccc(/C=C/c2ccc3cccc(O)c3n2)c1</td>\n",
       "      <td>0</td>\n",
       "      <td>0</td>\n",
       "      <td>0</td>\n",
       "      <td>0</td>\n",
       "      <td>0</td>\n",
       "      <td>0</td>\n",
       "      <td>1</td>\n",
       "      <td>0</td>\n",
       "      <td>...</td>\n",
       "      <td>0</td>\n",
       "      <td>0</td>\n",
       "      <td>0</td>\n",
       "      <td>0</td>\n",
       "      <td>0</td>\n",
       "      <td>0</td>\n",
       "      <td>0</td>\n",
       "      <td>0</td>\n",
       "      <td>0</td>\n",
       "      <td>0</td>\n",
       "    </tr>\n",
       "    <tr>\n",
       "      <th>...</th>\n",
       "      <td>...</td>\n",
       "      <td>...</td>\n",
       "      <td>...</td>\n",
       "      <td>...</td>\n",
       "      <td>...</td>\n",
       "      <td>...</td>\n",
       "      <td>...</td>\n",
       "      <td>...</td>\n",
       "      <td>...</td>\n",
       "      <td>...</td>\n",
       "      <td>...</td>\n",
       "      <td>...</td>\n",
       "      <td>...</td>\n",
       "      <td>...</td>\n",
       "      <td>...</td>\n",
       "      <td>...</td>\n",
       "      <td>...</td>\n",
       "      <td>...</td>\n",
       "      <td>...</td>\n",
       "      <td>...</td>\n",
       "      <td>...</td>\n",
       "    </tr>\n",
       "    <tr>\n",
       "      <th>1809</th>\n",
       "      <td>72300</td>\n",
       "      <td>C=CCc1ccc(O)c(-c2cc(CC=C)ccc2O)c1</td>\n",
       "      <td>1</td>\n",
       "      <td>0</td>\n",
       "      <td>1</td>\n",
       "      <td>1</td>\n",
       "      <td>0</td>\n",
       "      <td>0</td>\n",
       "      <td>0</td>\n",
       "      <td>0</td>\n",
       "      <td>...</td>\n",
       "      <td>1</td>\n",
       "      <td>0</td>\n",
       "      <td>0</td>\n",
       "      <td>0</td>\n",
       "      <td>0</td>\n",
       "      <td>0</td>\n",
       "      <td>0</td>\n",
       "      <td>0</td>\n",
       "      <td>0</td>\n",
       "      <td>0</td>\n",
       "    </tr>\n",
       "    <tr>\n",
       "      <th>1810</th>\n",
       "      <td>flavanones</td>\n",
       "      <td>C=CC(C)(C)c1cc([C@@H]2CC(=O)c3c(cc(O)c(CC=C(C)...</td>\n",
       "      <td>1</td>\n",
       "      <td>0</td>\n",
       "      <td>0</td>\n",
       "      <td>0</td>\n",
       "      <td>0</td>\n",
       "      <td>0</td>\n",
       "      <td>0</td>\n",
       "      <td>1</td>\n",
       "      <td>...</td>\n",
       "      <td>1</td>\n",
       "      <td>0</td>\n",
       "      <td>0</td>\n",
       "      <td>0</td>\n",
       "      <td>0</td>\n",
       "      <td>1</td>\n",
       "      <td>0</td>\n",
       "      <td>0</td>\n",
       "      <td>0</td>\n",
       "      <td>1</td>\n",
       "    </tr>\n",
       "    <tr>\n",
       "      <th>1811</th>\n",
       "      <td>N_ethylmaleimid</td>\n",
       "      <td>CCN1C(=O)C=CC1=O</td>\n",
       "      <td>1</td>\n",
       "      <td>0</td>\n",
       "      <td>0</td>\n",
       "      <td>0</td>\n",
       "      <td>0</td>\n",
       "      <td>0</td>\n",
       "      <td>0</td>\n",
       "      <td>0</td>\n",
       "      <td>...</td>\n",
       "      <td>0</td>\n",
       "      <td>0</td>\n",
       "      <td>0</td>\n",
       "      <td>0</td>\n",
       "      <td>0</td>\n",
       "      <td>0</td>\n",
       "      <td>0</td>\n",
       "      <td>0</td>\n",
       "      <td>0</td>\n",
       "      <td>0</td>\n",
       "    </tr>\n",
       "    <tr>\n",
       "      <th>1812</th>\n",
       "      <td>3117</td>\n",
       "      <td>CCN(CC)C(=S)SSC(=S)N(CC)CC</td>\n",
       "      <td>1</td>\n",
       "      <td>0</td>\n",
       "      <td>1</td>\n",
       "      <td>0</td>\n",
       "      <td>0</td>\n",
       "      <td>0</td>\n",
       "      <td>0</td>\n",
       "      <td>0</td>\n",
       "      <td>...</td>\n",
       "      <td>0</td>\n",
       "      <td>0</td>\n",
       "      <td>0</td>\n",
       "      <td>0</td>\n",
       "      <td>0</td>\n",
       "      <td>0</td>\n",
       "      <td>0</td>\n",
       "      <td>0</td>\n",
       "      <td>0</td>\n",
       "      <td>0</td>\n",
       "    </tr>\n",
       "    <tr>\n",
       "      <th>1813</th>\n",
       "      <td>9959038</td>\n",
       "      <td>CCC1OC2(CCC1C)CC1CC(CC=C(C)CC(C)C=CC=C3COC4C(O...</td>\n",
       "      <td>1</td>\n",
       "      <td>1</td>\n",
       "      <td>0</td>\n",
       "      <td>1</td>\n",
       "      <td>0</td>\n",
       "      <td>0</td>\n",
       "      <td>1</td>\n",
       "      <td>0</td>\n",
       "      <td>...</td>\n",
       "      <td>1</td>\n",
       "      <td>0</td>\n",
       "      <td>0</td>\n",
       "      <td>0</td>\n",
       "      <td>0</td>\n",
       "      <td>0</td>\n",
       "      <td>0</td>\n",
       "      <td>0</td>\n",
       "      <td>0</td>\n",
       "      <td>1</td>\n",
       "    </tr>\n",
       "  </tbody>\n",
       "</table>\n",
       "<p>1814 rows × 4099 columns</p>\n",
       "</div>"
      ],
      "text/plain": [
       "                   ID                                  Standardize_smile  \\\n",
       "0        Isonitrile_1                       [C-]#[N+]C1=CC(=CCC(=O)O)CC1   \n",
       "1                WK14                    Oc1ccccc1/C=C/c1ccc2cccc(O)c2n1   \n",
       "2               WK14B        CC(=O)Oc1ccccc1/C=C/c1ccc2cccc(OC(C)=O)c2n1   \n",
       "3                WK15                  Oc1cccc(/C=C/c2ccc3cccc(O)c3n2)c1   \n",
       "4               WK15B            CC(=O)Oc1cccc(/C=C/c2ccc3cccc(O)c3n2)c1   \n",
       "...               ...                                                ...   \n",
       "1809            72300                  C=CCc1ccc(O)c(-c2cc(CC=C)ccc2O)c1   \n",
       "1810       flavanones  C=CC(C)(C)c1cc([C@@H]2CC(=O)c3c(cc(O)c(CC=C(C)...   \n",
       "1811  N_ethylmaleimid                                   CCN1C(=O)C=CC1=O   \n",
       "1812             3117                         CCN(CC)C(=S)SSC(=S)N(CC)CC   \n",
       "1813          9959038  CCC1OC2(CCC1C)CC1CC(CC=C(C)CC(C)C=CC=C3COC4C(O...   \n",
       "\n",
       "      Activity  0  1  2  3  4  5  6  ...  4086  4087  4088  4089  4090  4091  \\\n",
       "0            1  0  0  0  0  0  0  0  ...     1     0     0     0     0     0   \n",
       "1            1  0  0  0  0  0  1  0  ...     0     0     0     0     0     0   \n",
       "2            1  0  0  0  0  0  1  0  ...     0     0     0     1     0     0   \n",
       "3            0  0  0  0  0  0  1  0  ...     0     0     0     0     0     0   \n",
       "4            0  0  0  0  0  0  1  0  ...     0     0     0     0     0     0   \n",
       "...        ... .. .. .. .. .. .. ..  ...   ...   ...   ...   ...   ...   ...   \n",
       "1809         1  0  1  1  0  0  0  0  ...     1     0     0     0     0     0   \n",
       "1810         1  0  0  0  0  0  0  1  ...     1     0     0     0     0     1   \n",
       "1811         1  0  0  0  0  0  0  0  ...     0     0     0     0     0     0   \n",
       "1812         1  0  1  0  0  0  0  0  ...     0     0     0     0     0     0   \n",
       "1813         1  1  0  1  0  0  1  0  ...     1     0     0     0     0     0   \n",
       "\n",
       "      4092  4093  4094  4095  \n",
       "0        0     0     0     0  \n",
       "1        0     0     0     0  \n",
       "2        0     1     0     0  \n",
       "3        0     0     0     0  \n",
       "4        0     0     0     0  \n",
       "...    ...   ...   ...   ...  \n",
       "1809     0     0     0     0  \n",
       "1810     0     0     0     1  \n",
       "1811     0     0     0     0  \n",
       "1812     0     0     0     0  \n",
       "1813     0     0     0     1  \n",
       "\n",
       "[1814 rows x 4099 columns]"
      ]
     },
     "execution_count": 14,
     "metadata": {},
     "output_type": "execute_result"
    }
   ],
   "source": [
    "path = \"./Cdr1_featurized_scaffold/RDK7.csv\"\n",
    "rdk7 = pd.read_csv(path)\n",
    "rdk7"
   ]
  },
  {
   "cell_type": "code",
   "execution_count": 8,
   "metadata": {},
   "outputs": [
    {
     "name": "stdout",
     "output_type": "stream",
     "text": [
      "COVERTING SMILES TO MOLECULES...\n"
     ]
    },
    {
     "name": "stderr",
     "output_type": "stream",
     "text": [
      "100%|██████████| 1814/1814 [00:00<00:00, 9333.83it/s]"
     ]
    },
    {
     "name": "stdout",
     "output_type": "stream",
     "text": [
      "CALCULATING Mordred descriptors...\n"
     ]
    },
    {
     "name": "stderr",
     "output_type": "stream",
     "text": [
      "\n",
      "100%|██████████| 1814/1814 [02:17<00:00, 13.18it/s]\n"
     ]
    },
    {
     "name": "stdout",
     "output_type": "stream",
     "text": [
      "FINISH CALCULATING!\n"
     ]
    }
   ],
   "source": [
    "#Mordred descriptor\n",
    "import os, sys\n",
    "sys.path.append(\"./ultility/\")\n",
    "from ultility.Featurizer_mordred import Featurize\n",
    "import warnings\n",
    "warnings.filterwarnings(action='ignore')\n",
    "\n",
    "folder = str('./Cdr1_featurized_scaffold')\n",
    "save_dir = folder+'/'\n",
    "\n",
    "\n",
    "fp = Featurize(data=data, smile_col='Standardize_smile', activity_col='Activity', \n",
    "            ID='ID', save_dir=save_dir, m2v_path = './data/model_300dim.pkl', standardize = False)\n",
    "fp.Apply()"
   ]
  }
 ],
 "metadata": {
  "kernelspec": {
   "display_name": "cheminformatics",
   "language": "python",
   "name": "python3"
  },
  "language_info": {
   "codemirror_mode": {
    "name": "ipython",
    "version": 3
   },
   "file_extension": ".py",
   "mimetype": "text/x-python",
   "name": "python",
   "nbconvert_exporter": "python",
   "pygments_lexer": "ipython3",
   "version": "3.10.12"
  }
 },
 "nbformat": 4,
 "nbformat_minor": 2
}
