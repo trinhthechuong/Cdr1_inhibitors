{
 "cells": [
  {
   "cell_type": "markdown",
   "metadata": {},
   "source": [
    "## **1. Data Input**"
   ]
  },
  {
   "cell_type": "code",
   "execution_count": 4,
   "metadata": {},
   "outputs": [
    {
     "data": {
      "text/html": [
       "<div>\n",
       "<style scoped>\n",
       "    .dataframe tbody tr th:only-of-type {\n",
       "        vertical-align: middle;\n",
       "    }\n",
       "\n",
       "    .dataframe tbody tr th {\n",
       "        vertical-align: top;\n",
       "    }\n",
       "\n",
       "    .dataframe thead th {\n",
       "        text-align: right;\n",
       "    }\n",
       "</style>\n",
       "<table border=\"1\" class=\"dataframe\">\n",
       "  <thead>\n",
       "    <tr style=\"text-align: right;\">\n",
       "      <th></th>\n",
       "      <th>ID</th>\n",
       "      <th>Standardize_smile</th>\n",
       "      <th>Activity</th>\n",
       "    </tr>\n",
       "  </thead>\n",
       "  <tbody>\n",
       "    <tr>\n",
       "      <th>0</th>\n",
       "      <td>Isonitrile_1</td>\n",
       "      <td>[C-]#[N+]C1=CC(=CCC(=O)O)CC1</td>\n",
       "      <td>0</td>\n",
       "    </tr>\n",
       "    <tr>\n",
       "      <th>1</th>\n",
       "      <td>1a</td>\n",
       "      <td>c1ccc(-c2nc3ccccc3n3c(N4CCN(c5ccccc5)CC4)ccc23...</td>\n",
       "      <td>0</td>\n",
       "    </tr>\n",
       "    <tr>\n",
       "      <th>2</th>\n",
       "      <td>1b</td>\n",
       "      <td>COc1ccccc1N1CCN(c2ccc3c(-c4ccccc4)nc4ccccc4n23...</td>\n",
       "      <td>0</td>\n",
       "    </tr>\n",
       "    <tr>\n",
       "      <th>3</th>\n",
       "      <td>2963625</td>\n",
       "      <td>COc1cc2c(cc1NC(=O)CSc1nnc(Cc3cccs3)n1Cc1ccco1)...</td>\n",
       "      <td>0</td>\n",
       "    </tr>\n",
       "    <tr>\n",
       "      <th>4</th>\n",
       "      <td>44201431</td>\n",
       "      <td>C=CCC(CC(=O)N(CCO)Cc1ccccc1)C(=O)NC(COC(=O)C(C...</td>\n",
       "      <td>0</td>\n",
       "    </tr>\n",
       "  </tbody>\n",
       "</table>\n",
       "</div>"
      ],
      "text/plain": [
       "             ID                                  Standardize_smile  Activity\n",
       "0  Isonitrile_1                       [C-]#[N+]C1=CC(=CCC(=O)O)CC1         0\n",
       "1            1a  c1ccc(-c2nc3ccccc3n3c(N4CCN(c5ccccc5)CC4)ccc23...         0\n",
       "2            1b  COc1ccccc1N1CCN(c2ccc3c(-c4ccccc4)nc4ccccc4n23...         0\n",
       "3       2963625  COc1cc2c(cc1NC(=O)CSc1nnc(Cc3cccs3)n1Cc1ccco1)...         0\n",
       "4      44201431  C=CCC(CC(=O)N(CCO)Cc1ccccc1)C(=O)NC(COC(=O)C(C...         0"
      ]
     },
     "execution_count": 4,
     "metadata": {},
     "output_type": "execute_result"
    }
   ],
   "source": [
    "import pandas as pd\n",
    "import numpy as np\n",
    "valid_path = \"/Users/thechuongtrinh/Documents/Workspace/Master_thesis/Cdr1_inhibitors/dataset/Featurized_data/BM_stratified_sampling/external_test_set/avalon_test.csv\"\n",
    "df_valid = pd.read_csv(valid_path)\n",
    "df_valid = df_valid[[\"ID\",\"Standardize_smile\"]]\n",
    "df_valid[\"Activity\"]=0\n",
    "df_valid.head()"
   ]
  },
  {
   "cell_type": "code",
   "execution_count": 2,
   "metadata": {},
   "outputs": [],
   "source": [
    "df_valid = df_valid[[\"ID\",\"Standardize_smile\"]]\n",
    "df_valid.iloc[0:10,:].to_csv(\"data_deploy.csv\",index=False)"
   ]
  },
  {
   "cell_type": "markdown",
   "metadata": {},
   "source": [
    "## **2. Molecular Representation and Molecular Graph Calculation**"
   ]
  },
  {
   "cell_type": "code",
   "execution_count": 5,
   "metadata": {},
   "outputs": [
    {
     "data": {
      "application/vnd.jupyter.widget-view+json": {
       "model_id": "e486a8189c474d649774e6e4b8484d5c",
       "version_major": 2,
       "version_minor": 0
      },
      "text/plain": [
       "  0%|          | 0/177 [00:00<?, ?it/s]"
      ]
     },
     "metadata": {},
     "output_type": "display_data"
    },
    {
     "data": {
      "application/vnd.jupyter.widget-view+json": {
       "model_id": "fed127fd3b854de7a8ee1607ce7f3799",
       "version_major": 2,
       "version_minor": 0
      },
      "text/plain": [
       "  0%|          | 0/177 [00:00<?, ?it/s]"
      ]
     },
     "metadata": {},
     "output_type": "display_data"
    },
    {
     "data": {
      "application/vnd.jupyter.widget-view+json": {
       "model_id": "5be5cf0788f7480fba2961989243a7dd",
       "version_major": 2,
       "version_minor": 0
      },
      "text/plain": [
       "  0%|          | 0/177 [00:00<?, ?it/s]"
      ]
     },
     "metadata": {},
     "output_type": "display_data"
    },
    {
     "name": "stderr",
     "output_type": "stream",
     "text": [
      "100%|██████████| 177/177 [00:11<00:00, 15.54it/s]\n"
     ]
    },
    {
     "data": {
      "application/vnd.jupyter.widget-view+json": {
       "model_id": "bc4be62cfa4046cc8ebca1ddb4134557",
       "version_major": 2,
       "version_minor": 0
      },
      "text/plain": [
       "Output()"
      ]
     },
     "metadata": {},
     "output_type": "display_data"
    },
    {
     "name": "stderr",
     "output_type": "stream",
     "text": [
      "Skipped loading some Tensorflow models, missing a dependency. No module named 'tensorflow'\n",
      "Skipped loading some Tensorflow models, missing a dependency. No module named 'tensorflow'\n",
      "Skipped loading some Tensorflow models, missing a dependency. No module named 'tensorflow'\n",
      "Skipped loading some Tensorflow models, missing a dependency. No module named 'tensorflow'\n",
      "Skipped loading some Tensorflow models, missing a dependency. No module named 'tensorflow'\n"
     ]
    },
    {
     "name": "stderr",
     "output_type": "stream",
     "text": [
      "Skipped loading modules with pytorch-lightning dependency, missing a dependency. No module named 'pytorch_lightning'\n",
      "Skipped loading some Jax models, missing a dependency. No module named 'jax'\n",
      "Skipped loading modules with pytorch-lightning dependency, missing a dependency. No module named 'pytorch_lightning'\n",
      "Skipped loading some Jax models, missing a dependency. No module named 'jax'\n",
      "Skipped loading modules with pytorch-lightning dependency, missing a dependency. No module named 'pytorch_lightning'\n",
      "Skipped loading some Jax models, missing a dependency. No module named 'jax'\n",
      "Skipped loading modules with pytorch-lightning dependency, missing a dependency. No module named 'pytorch_lightning'\n",
      "Skipped loading modules with pytorch-lightning dependency, missing a dependency. No module named 'pytorch_lightning'\n",
      "Skipped loading some Jax models, missing a dependency. No module named 'jax'\n",
      "Skipped loading some Jax models, missing a dependency. No module named 'jax'\n"
     ]
    },
    {
     "name": "stderr",
     "output_type": "stream",
     "text": [
      "reading NP model ...\n",
      "reading NP model ...\n",
      "reading NP model ...\n",
      "reading NP model ...\n",
      "model in\n",
      "reading NP model ...\n",
      "model in\n"
     ]
    },
    {
     "name": "stderr",
     "output_type": "stream",
     "text": [
      "model in\n",
      "model in\n",
      "model in\n"
     ]
    },
    {
     "data": {
      "text/html": [
       "<pre style=\"white-space:pre;overflow-x:auto;line-height:normal;font-family:Menlo,'DejaVu Sans Mono',consolas,'Courier New',monospace\"></pre>\n"
      ],
      "text/plain": []
     },
     "metadata": {},
     "output_type": "display_data"
    },
    {
     "data": {
      "text/html": [
       "<pre style=\"white-space:pre;overflow-x:auto;line-height:normal;font-family:Menlo,'DejaVu Sans Mono',consolas,'Courier New',monospace\">\n",
       "</pre>\n"
      ],
      "text/plain": [
       "\n"
      ]
     },
     "metadata": {},
     "output_type": "display_data"
    }
   ],
   "source": [
    "from Utility.Featurizer_streamlit import featurizer\n",
    "featurizer_st = featurizer(df_valid, ID = \"ID\", smiles_col = \"Standardize_smile\", active_col = \"Activity\", save_dir = \"Cdr1_classification/\", n_jobs = 5)\n",
    "rdk5_df, rdk6_df, rdk7_df, avalon_df, ph4_processed, mordred_df, graph_dataset = featurizer_st.run()"
   ]
  },
  {
   "cell_type": "markdown",
   "metadata": {},
   "source": [
    "## **3. Prediction**"
   ]
  },
  {
   "cell_type": "code",
   "execution_count": 13,
   "metadata": {},
   "outputs": [
    {
     "name": "stderr",
     "output_type": "stream",
     "text": [
      "/Users/thechuongtrinh/anaconda3/envs/cdr1_inhibitors_classification/lib/python3.9/site-packages/sklearn/base.py:465: UserWarning: X does not have valid feature names, but LogisticRegression was fitted with feature names\n",
      "  warnings.warn(\n",
      "/Users/thechuongtrinh/anaconda3/envs/cdr1_inhibitors_classification/lib/python3.9/site-packages/sklearn/base.py:465: UserWarning: X does not have valid feature names, but MLPClassifier was fitted with feature names\n",
      "  warnings.warn(\n"
     ]
    },
    {
     "data": {
      "text/html": [
       "<div>\n",
       "<style scoped>\n",
       "    .dataframe tbody tr th:only-of-type {\n",
       "        vertical-align: middle;\n",
       "    }\n",
       "\n",
       "    .dataframe tbody tr th {\n",
       "        vertical-align: top;\n",
       "    }\n",
       "\n",
       "    .dataframe thead th {\n",
       "        text-align: right;\n",
       "    }\n",
       "</style>\n",
       "<table border=\"1\" class=\"dataframe\">\n",
       "  <thead>\n",
       "    <tr style=\"text-align: right;\">\n",
       "      <th></th>\n",
       "      <th>ID</th>\n",
       "      <th>Standardized SMILES</th>\n",
       "      <th>Probability</th>\n",
       "      <th>Prediction</th>\n",
       "    </tr>\n",
       "  </thead>\n",
       "  <tbody>\n",
       "    <tr>\n",
       "      <th>0</th>\n",
       "      <td>Isonitrile_1</td>\n",
       "      <td>[C-]#[N+]C1=CC(=CCC(=O)O)CC1</td>\n",
       "      <td>0.153331</td>\n",
       "      <td>0</td>\n",
       "    </tr>\n",
       "    <tr>\n",
       "      <th>1</th>\n",
       "      <td>1a</td>\n",
       "      <td>c1ccc(-c2nc3ccccc3n3c(N4CCN(c5ccccc5)CC4)ccc23...</td>\n",
       "      <td>0.659775</td>\n",
       "      <td>1</td>\n",
       "    </tr>\n",
       "    <tr>\n",
       "      <th>2</th>\n",
       "      <td>1b</td>\n",
       "      <td>COc1ccccc1N1CCN(c2ccc3c(-c4ccccc4)nc4ccccc4n23...</td>\n",
       "      <td>0.631182</td>\n",
       "      <td>1</td>\n",
       "    </tr>\n",
       "    <tr>\n",
       "      <th>3</th>\n",
       "      <td>2963625</td>\n",
       "      <td>COc1cc2c(cc1NC(=O)CSc1nnc(Cc3cccs3)n1Cc1ccco1)...</td>\n",
       "      <td>0.003459</td>\n",
       "      <td>0</td>\n",
       "    </tr>\n",
       "    <tr>\n",
       "      <th>4</th>\n",
       "      <td>44201431</td>\n",
       "      <td>C=CCC(CC(=O)N(CCO)Cc1ccccc1)C(=O)NC(COC(=O)C(C...</td>\n",
       "      <td>0.144681</td>\n",
       "      <td>0</td>\n",
       "    </tr>\n",
       "  </tbody>\n",
       "</table>\n",
       "</div>"
      ],
      "text/plain": [
       "             ID                                Standardized SMILES  \\\n",
       "0  Isonitrile_1                       [C-]#[N+]C1=CC(=CCC(=O)O)CC1   \n",
       "1            1a  c1ccc(-c2nc3ccccc3n3c(N4CCN(c5ccccc5)CC4)ccc23...   \n",
       "2            1b  COc1ccccc1N1CCN(c2ccc3c(-c4ccccc4)nc4ccccc4n23...   \n",
       "3       2963625  COc1cc2c(cc1NC(=O)CSc1nnc(Cc3cccs3)n1Cc1ccco1)...   \n",
       "4      44201431  C=CCC(CC(=O)N(CCO)Cc1ccccc1)C(=O)NC(COC(=O)C(C...   \n",
       "\n",
       "   Probability  Prediction  \n",
       "0     0.153331           0  \n",
       "1     0.659775           1  \n",
       "2     0.631182           1  \n",
       "3     0.003459           0  \n",
       "4     0.144681           0  "
      ]
     },
     "metadata": {},
     "output_type": "display_data"
    }
   ],
   "source": [
    "# from Utility.cdr1_model_predict import ensemble_predict\n",
    "fpt_datasets = [rdk5_df, rdk6_df, rdk7_df, mordred_df, avalon_df, ph4_processed]\n",
    "predict = ensemble_predict(fpt_datasets, graph_dataset, \"ID\", \"Standardize_smile\")\n",
    "df_predictions = predict.predict()\n",
    "display(df_predictions.head())"
   ]
  },
  {
   "cell_type": "code",
   "execution_count": 15,
   "metadata": {},
   "outputs": [
    {
     "name": "stdout",
     "output_type": "stream",
     "text": [
      "F1 score: 0.7142857142857143\n",
      "Balanced accuracy: 0.7987068965517241\n",
      "ROC AUC: 0.8836206896551725\n",
      "Average precision: 0.7545476551440111\n"
     ]
    }
   ],
   "source": [
    "from sklearn.metrics import f1_score, balanced_accuracy_score,roc_auc_score,average_precision_score\n",
    "# valid_path = \"/Users/thechuongtrinh/Documents/Workspace/Master_thesis/Cdr1_inhibitors/dataset/Featurized_data/BM_stratified_sampling/validation_set_dl/avalon_valid.csv\"\n",
    "df_valid_raw = pd.read_csv(valid_path)\n",
    "y_true = df_valid_raw[\"Activity\"]\n",
    "y_pred = df_predictions[\"Prediction\"]\n",
    "y_prob = df_predictions[\"Probability\"]\n",
    "\n",
    "f1 = f1_score(y_true, y_pred)\n",
    "balanced_accuracy = balanced_accuracy_score(y_true, y_pred)\n",
    "roc_auc = roc_auc_score(y_true, y_prob)\n",
    "average_precision = average_precision_score(y_true, y_prob)\n",
    "print(f\"F1 score: {f1}\")\n",
    "print(f\"Balanced accuracy: {balanced_accuracy}\")\n",
    "print(f\"ROC AUC: {roc_auc}\")\n",
    "print(f\"Average precision: {average_precision}\")\n"
   ]
  }
 ],
 "metadata": {
  "kernelspec": {
   "display_name": "cheminformatics",
   "language": "python",
   "name": "python3"
  },
  "language_info": {
   "codemirror_mode": {
    "name": "ipython",
    "version": 3
   },
   "file_extension": ".py",
   "mimetype": "text/x-python",
   "name": "python",
   "nbconvert_exporter": "python",
   "pygments_lexer": "ipython3",
   "version": "3.9.19"
  }
 },
 "nbformat": 4,
 "nbformat_minor": 2
}
