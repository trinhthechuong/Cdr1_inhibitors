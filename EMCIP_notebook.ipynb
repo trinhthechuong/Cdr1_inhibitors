{
 "cells": [
  {
   "cell_type": "markdown",
   "metadata": {},
   "source": [
    "# **1. Input CSV File**"
   ]
  },
  {
   "cell_type": "code",
   "execution_count": 1,
   "metadata": {},
   "outputs": [],
   "source": [
    "from Utility.Featurizer_deploy import data_input\n",
    "data_path = 'data_deploy.csv'\n",
    "ID_col = 'ID'\n",
    "SMILES_col = 'Standardize_smile'\n",
    "input_data = data_input(data_path=data_path, ID=ID_col, smiles_col=SMILES_col)\n",
    "data_predict = input_data.read_data()"
   ]
  },
  {
   "cell_type": "markdown",
   "metadata": {},
   "source": [
    "# **2. Data Featurization**"
   ]
  },
  {
   "cell_type": "code",
   "execution_count": 2,
   "metadata": {},
   "outputs": [
    {
     "name": "stderr",
     "output_type": "stream",
     "text": [
      "Skipped loading some Tensorflow models, missing a dependency. No module named 'tensorflow'\n",
      "Skipped loading modules with pytorch-lightning dependency, missing a dependency. No module named 'pytorch_lightning'\n",
      "Skipped loading some Jax models, missing a dependency. No module named 'jax'\n",
      "2024-05-31 00:00:20.164 \n",
      "  \u001b[33m\u001b[1mWarning:\u001b[0m to view this Streamlit app on a browser, run it with the following\n",
      "  command:\n",
      "\n",
      "    streamlit run /Users/thechuongtrinh/anaconda3/envs/cdr1_inhibitors_classification/lib/python3.9/site-packages/ipykernel_launcher.py [ARGUMENTS]\n",
      "100%|██████████| 10/10 [00:00<00:00, 834.50it/s]\n",
      "100%|██████████| 10/10 [00:00<00:00, 446.11it/s]\n",
      "100%|██████████| 10/10 [00:00<00:00, 208.80it/s]\n"
     ]
    },
    {
     "ename": "AttributeError",
     "evalue": "module 'rdkit.Chem' has no attribute 'PandasTools'",
     "output_type": "error",
     "traceback": [
      "\u001b[0;31m---------------------------------------------------------------------------\u001b[0m",
      "\u001b[0;31mAttributeError\u001b[0m                            Traceback (most recent call last)",
      "Cell \u001b[0;32mIn[2], line 3\u001b[0m\n\u001b[1;32m      1\u001b[0m \u001b[38;5;28;01mfrom\u001b[39;00m \u001b[38;5;21;01mUtility\u001b[39;00m\u001b[38;5;21;01m.\u001b[39;00m\u001b[38;5;21;01mFeaturizer_streamlit\u001b[39;00m \u001b[38;5;28;01mimport\u001b[39;00m featurizer\n\u001b[1;32m      2\u001b[0m featurizer_st \u001b[38;5;241m=\u001b[39m featurizer(data_predict, ID \u001b[38;5;241m=\u001b[39m ID_col, smiles_col \u001b[38;5;241m=\u001b[39m SMILES_col, active_col \u001b[38;5;241m=\u001b[39m \u001b[38;5;124m\"\u001b[39m\u001b[38;5;124mActivity\u001b[39m\u001b[38;5;124m\"\u001b[39m, save_dir \u001b[38;5;241m=\u001b[39m \u001b[38;5;124m\"\u001b[39m\u001b[38;5;124mCdr1_classification/\u001b[39m\u001b[38;5;124m\"\u001b[39m, n_jobs \u001b[38;5;241m=\u001b[39m \u001b[38;5;241m5\u001b[39m)\n\u001b[0;32m----> 3\u001b[0m rdk5_df, rdk6_df, rdk7_df, avalon_df, ph4_processed, mordred_df, graph_dataset \u001b[38;5;241m=\u001b[39m \u001b[43mfeaturizer_st\u001b[49m\u001b[38;5;241;43m.\u001b[39;49m\u001b[43mrun\u001b[49m\u001b[43m(\u001b[49m\u001b[43m)\u001b[49m\n",
      "File \u001b[0;32m~/Documents/Workspace/Master_thesis/Cdr1_inhibitors/Utility/Featurizer_streamlit.py:109\u001b[0m, in \u001b[0;36mfeaturizer.run\u001b[0;34m(self)\u001b[0m\n\u001b[1;32m    107\u001b[0m \u001b[38;5;28;01mdef\u001b[39;00m \u001b[38;5;21mrun\u001b[39m(\u001b[38;5;28mself\u001b[39m):\n\u001b[1;32m    108\u001b[0m     data_std \u001b[38;5;241m=\u001b[39m \u001b[38;5;28mself\u001b[39m\u001b[38;5;241m.\u001b[39mstandardized_data()\n\u001b[0;32m--> 109\u001b[0m     rdk5_df, rdk6_df, rdk7_df, avalon_df, ph4_processed, mordred_df, graph_dataset \u001b[38;5;241m=\u001b[39m \u001b[38;5;28;43mself\u001b[39;49m\u001b[38;5;241;43m.\u001b[39;49m\u001b[43mfeaturized_data\u001b[49m\u001b[43m(\u001b[49m\u001b[43mdata_featurized\u001b[49m\u001b[43m \u001b[49m\u001b[38;5;241;43m=\u001b[39;49m\u001b[43m \u001b[49m\u001b[43mdata_std\u001b[49m\u001b[43m)\u001b[49m\n\u001b[1;32m    110\u001b[0m     \u001b[38;5;28;01mreturn\u001b[39;00m rdk5_df, rdk6_df, rdk7_df, avalon_df, ph4_processed, mordred_df, graph_dataset\n",
      "File \u001b[0;32m~/Documents/Workspace/Master_thesis/Cdr1_inhibitors/Utility/Featurizer_streamlit.py:86\u001b[0m, in \u001b[0;36mfeaturizer.featurized_data\u001b[0;34m(self, data_featurized)\u001b[0m\n\u001b[1;32m     84\u001b[0m \u001b[38;5;66;03m#print(\"Mordred descriptors calculation...\")\u001b[39;00m\n\u001b[1;32m     85\u001b[0m mordred_cal \u001b[38;5;241m=\u001b[39m representation_calculation(data_featurized, \u001b[38;5;28mself\u001b[39m\u001b[38;5;241m.\u001b[39mID, \u001b[38;5;28mself\u001b[39m\u001b[38;5;241m.\u001b[39msmiles_col, Molecule_col\u001b[38;5;241m=\u001b[39m\u001b[38;5;124m\"\u001b[39m\u001b[38;5;124mMolecule\u001b[39m\u001b[38;5;124m\"\u001b[39m, type_fpt\u001b[38;5;241m=\u001b[39m\u001b[38;5;124m'\u001b[39m\u001b[38;5;124mmordred\u001b[39m\u001b[38;5;124m'\u001b[39m, save_dir\u001b[38;5;241m=\u001b[39m\u001b[38;5;28mself\u001b[39m\u001b[38;5;241m.\u001b[39msave_dir)\n\u001b[0;32m---> 86\u001b[0m mordred_df \u001b[38;5;241m=\u001b[39m \u001b[43mmordred_cal\u001b[49m\u001b[38;5;241;43m.\u001b[39;49m\u001b[43mfit\u001b[49m\u001b[43m(\u001b[49m\u001b[43m)\u001b[49m\n\u001b[1;32m     87\u001b[0m progress_bar\u001b[38;5;241m.\u001b[39mprogress(\u001b[38;5;241m6\u001b[39m \u001b[38;5;241m*\u001b[39m progress_step)\n\u001b[1;32m     88\u001b[0m status_text\u001b[38;5;241m.\u001b[39mtext(\u001b[38;5;124m\"\u001b[39m\u001b[38;5;124mMordred descriptors calculated...\u001b[39m\u001b[38;5;124m\"\u001b[39m)\n",
      "File \u001b[0;32m~/Documents/Workspace/Master_thesis/Cdr1_inhibitors/Utility/Featurizer_deploy.py:128\u001b[0m, in \u001b[0;36mrepresentation_calculation.fit\u001b[0;34m(self)\u001b[0m\n\u001b[1;32m    126\u001b[0m     featurized_data \u001b[38;5;241m=\u001b[39m \u001b[38;5;28mself\u001b[39m\u001b[38;5;241m.\u001b[39mph4_calculation()\n\u001b[1;32m    127\u001b[0m \u001b[38;5;28;01melse\u001b[39;00m:\n\u001b[0;32m--> 128\u001b[0m     featurized_data \u001b[38;5;241m=\u001b[39m \u001b[38;5;28;43mself\u001b[39;49m\u001b[38;5;241;43m.\u001b[39;49m\u001b[43mmordred_calculation\u001b[49m\u001b[43m(\u001b[49m\u001b[43m)\u001b[49m\n\u001b[1;32m    129\u001b[0m \u001b[38;5;28;01mreturn\u001b[39;00m featurized_data\n",
      "File \u001b[0;32m~/Documents/Workspace/Master_thesis/Cdr1_inhibitors/Utility/Featurizer_deploy.py:101\u001b[0m, in \u001b[0;36mrepresentation_calculation.mordred_calculation\u001b[0;34m(self)\u001b[0m\n\u001b[1;32m     97\u001b[0m \u001b[38;5;28mself\u001b[39m\u001b[38;5;241m.\u001b[39mmordred \u001b[38;5;241m=\u001b[39m \u001b[38;5;28mself\u001b[39m\u001b[38;5;241m.\u001b[39mdata\u001b[38;5;241m.\u001b[39mcopy()\n\u001b[1;32m     98\u001b[0m \u001b[38;5;66;03m# calc = Calculator(descriptors, ignore_3D=True)\u001b[39;00m\n\u001b[1;32m     99\u001b[0m \u001b[38;5;66;03m# df_2d_mordred = calc.pandas(self.mordred.Molecule,quiet=True)\u001b[39;00m\n\u001b[1;32m    100\u001b[0m \u001b[38;5;66;03m# self.mordred_raw = pd.concat([self.mordred[[self.ID, self.SMILES, \"Activity\"]], df_2d_mordred], axis = 1)\u001b[39;00m\n\u001b[0;32m--> 101\u001b[0m \u001b[43mChem\u001b[49m\u001b[38;5;241;43m.\u001b[39;49m\u001b[43mPandasTools\u001b[49m\u001b[38;5;241m.\u001b[39mWriteSDF(\u001b[38;5;28mself\u001b[39m\u001b[38;5;241m.\u001b[39mmordred, \u001b[38;5;124mf\u001b[39m\u001b[38;5;124m'\u001b[39m\u001b[38;5;132;01m{\u001b[39;00m\u001b[38;5;28mself\u001b[39m\u001b[38;5;241m.\u001b[39msave_dir\u001b[38;5;132;01m}\u001b[39;00m\u001b[38;5;124mconf.sdf\u001b[39m\u001b[38;5;124m'\u001b[39m, molColName\u001b[38;5;241m=\u001b[39m\u001b[38;5;28mself\u001b[39m\u001b[38;5;241m.\u001b[39mMols)\n\u001b[1;32m    102\u001b[0m command \u001b[38;5;241m=\u001b[39m \u001b[38;5;124mf\u001b[39m\u001b[38;5;124m\"\u001b[39m\u001b[38;5;124mpython -m mordred \u001b[39m\u001b[38;5;132;01m{\u001b[39;00m\u001b[38;5;124mf\u001b[39m\u001b[38;5;124m'\u001b[39m\u001b[38;5;132;01m{\u001b[39;00m\u001b[38;5;28mself\u001b[39m\u001b[38;5;241m.\u001b[39msave_dir\u001b[38;5;132;01m}\u001b[39;00m\u001b[38;5;124mconf.sdf\u001b[39m\u001b[38;5;124m'\u001b[39m\u001b[38;5;132;01m}\u001b[39;00m\u001b[38;5;124m -o \u001b[39m\u001b[38;5;132;01m{\u001b[39;00m\u001b[38;5;124mf\u001b[39m\u001b[38;5;124m'\u001b[39m\u001b[38;5;132;01m{\u001b[39;00m\u001b[38;5;28mself\u001b[39m\u001b[38;5;241m.\u001b[39msave_dir\u001b[38;5;132;01m}\u001b[39;00m\u001b[38;5;124mMordred.csv\u001b[39m\u001b[38;5;124m'\u001b[39m\u001b[38;5;132;01m}\u001b[39;00m\u001b[38;5;124m\"\u001b[39m\n\u001b[1;32m    103\u001b[0m \u001b[38;5;66;03m# Execute the command\u001b[39;00m\n",
      "\u001b[0;31mAttributeError\u001b[0m: module 'rdkit.Chem' has no attribute 'PandasTools'"
     ]
    }
   ],
   "source": [
    "from Utility.Featurizer_streamlit import featurizer\n",
    "featurizer_st = featurizer(data_predict, ID = ID_col, smiles_col = SMILES_col, active_col = \"Activity\", save_dir = \"Cdr1_classification/\", n_jobs = 5)\n",
    "rdk5_df, rdk6_df, rdk7_df, avalon_df, ph4_processed, mordred_df, graph_dataset = featurizer_st.run()"
   ]
  },
  {
   "cell_type": "markdown",
   "metadata": {},
   "source": [
    "# **3. Cdr1 Inhibitor Prediction** "
   ]
  },
  {
   "cell_type": "code",
   "execution_count": 8,
   "metadata": {},
   "outputs": [
    {
     "name": "stderr",
     "output_type": "stream",
     "text": [
      "/Users/thechuongtrinh/anaconda3/envs/cdr1_inhibitors_classification/lib/python3.9/site-packages/sklearn/base.py:465: UserWarning: X does not have valid feature names, but LogisticRegression was fitted with feature names\n",
      "  warnings.warn(\n",
      "/Users/thechuongtrinh/anaconda3/envs/cdr1_inhibitors_classification/lib/python3.9/site-packages/sklearn/base.py:465: UserWarning: X does not have valid feature names, but MLPClassifier was fitted with feature names\n",
      "  warnings.warn(\n"
     ]
    },
    {
     "data": {
      "text/html": [
       "<div>\n",
       "<style scoped>\n",
       "    .dataframe tbody tr th:only-of-type {\n",
       "        vertical-align: middle;\n",
       "    }\n",
       "\n",
       "    .dataframe tbody tr th {\n",
       "        vertical-align: top;\n",
       "    }\n",
       "\n",
       "    .dataframe thead th {\n",
       "        text-align: right;\n",
       "    }\n",
       "</style>\n",
       "<table border=\"1\" class=\"dataframe\">\n",
       "  <thead>\n",
       "    <tr style=\"text-align: right;\">\n",
       "      <th></th>\n",
       "      <th>ID</th>\n",
       "      <th>Standardized SMILES</th>\n",
       "      <th>Probability</th>\n",
       "      <th>Prediction</th>\n",
       "    </tr>\n",
       "  </thead>\n",
       "  <tbody>\n",
       "    <tr>\n",
       "      <th>0</th>\n",
       "      <td>24818973</td>\n",
       "      <td>Cc1ccc(OCc2cc(C(=O)NCC(C)(C)N3CCOCC3)no2)cc1C</td>\n",
       "      <td>0.003489</td>\n",
       "      <td>0</td>\n",
       "    </tr>\n",
       "    <tr>\n",
       "      <th>1</th>\n",
       "      <td>spiroindolinone_24</td>\n",
       "      <td>Cc1c(Cl)ccc2c1NC(=O)[C@@]21c2c(c(O)n(-c3ccccc3...</td>\n",
       "      <td>0.995414</td>\n",
       "      <td>1</td>\n",
       "    </tr>\n",
       "    <tr>\n",
       "      <th>2</th>\n",
       "      <td>44601952</td>\n",
       "      <td>COc1cc(OC)cc(-c2sc3ccc(OC)cc3c2-c2ccc(OCCN3CCC...</td>\n",
       "      <td>0.986264</td>\n",
       "      <td>1</td>\n",
       "    </tr>\n",
       "    <tr>\n",
       "      <th>3</th>\n",
       "      <td>44601949</td>\n",
       "      <td>COc1cccc(-c2sc3ccc(OC)cc3c2-c2ccc(OCCN3CCCCC3)...</td>\n",
       "      <td>0.978856</td>\n",
       "      <td>1</td>\n",
       "    </tr>\n",
       "    <tr>\n",
       "      <th>4</th>\n",
       "      <td>N_ethylmaleimid</td>\n",
       "      <td>CCN1C(=O)C=CC1=O</td>\n",
       "      <td>0.020636</td>\n",
       "      <td>0</td>\n",
       "    </tr>\n",
       "  </tbody>\n",
       "</table>\n",
       "</div>"
      ],
      "text/plain": [
       "                   ID                                Standardized SMILES  \\\n",
       "0            24818973      Cc1ccc(OCc2cc(C(=O)NCC(C)(C)N3CCOCC3)no2)cc1C   \n",
       "1  spiroindolinone_24  Cc1c(Cl)ccc2c1NC(=O)[C@@]21c2c(c(O)n(-c3ccccc3...   \n",
       "2            44601952  COc1cc(OC)cc(-c2sc3ccc(OC)cc3c2-c2ccc(OCCN3CCC...   \n",
       "3            44601949  COc1cccc(-c2sc3ccc(OC)cc3c2-c2ccc(OCCN3CCCCC3)...   \n",
       "4     N_ethylmaleimid                                   CCN1C(=O)C=CC1=O   \n",
       "\n",
       "   Probability  Prediction  \n",
       "0     0.003489           0  \n",
       "1     0.995414           1  \n",
       "2     0.986264           1  \n",
       "3     0.978856           1  \n",
       "4     0.020636           0  "
      ]
     },
     "metadata": {},
     "output_type": "display_data"
    }
   ],
   "source": [
    "from Utility.cdr1_model_predict import ensemble_predict\n",
    "fpt_datasets = [rdk5_df, rdk6_df, rdk7_df, mordred_df, avalon_df, ph4_processed]\n",
    "predict = ensemble_predict(fpt_datasets, graph_dataset, ID_col, SMILES_col)\n",
    "df_predictions = predict.predict()\n",
    "display(df_predictions.head())"
   ]
  }
 ],
 "metadata": {
  "kernelspec": {
   "display_name": "cdr1_inhibitors_classification",
   "language": "python",
   "name": "python3"
  },
  "language_info": {
   "codemirror_mode": {
    "name": "ipython",
    "version": 3
   },
   "file_extension": ".py",
   "mimetype": "text/x-python",
   "name": "python",
   "nbconvert_exporter": "python",
   "pygments_lexer": "ipython3",
   "version": "3.9.19"
  }
 },
 "nbformat": 4,
 "nbformat_minor": 2
}
